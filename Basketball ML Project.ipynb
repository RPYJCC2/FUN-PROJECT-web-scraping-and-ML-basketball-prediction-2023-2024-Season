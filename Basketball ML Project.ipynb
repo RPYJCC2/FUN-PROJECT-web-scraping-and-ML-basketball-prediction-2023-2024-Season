{
 "cells": [
  {
   "cell_type": "code",
   "execution_count": 109,
   "id": "f7975b40",
   "metadata": {},
   "outputs": [],
   "source": [
    "import requests\n",
    "from bs4 import BeautifulSoup\n",
    "from datetime import datetime, timedelta\n",
    "import time\n",
    "import pandas as pd\n",
    "import numpy as np\n",
    "import random\n",
    "from tqdm import tqdm\n",
    "import torch\n",
    "import torch.nn as nn\n",
    "import torch.nn.functional as F\n",
    "from sklearn.preprocessing import StandardScaler\n",
    "from torch.utils.data import TensorDataset, DataLoader\n",
    "from sklearn.model_selection import train_test_split, KFold\n",
    "import matplotlib.pyplot as plt"
   ]
  },
  {
   "cell_type": "code",
   "execution_count": 2,
   "id": "cea70c4c",
   "metadata": {
    "scrolled": true
   },
   "outputs": [],
   "source": [
    "def daterange(start_date, end_date):\n",
    "    for n in range(int((end_date - start_date).days) + 1):\n",
    "        yield start_date + timedelta(days=n)\n",
    "team_name_mapping = {\n",
    "    \"Cleveland\": \"CLE\",\n",
    "    \"Charlotte\": \"CHO\",\n",
    "    \"LA Lakers\": \"LAL\",\n",
    "    \"New Orleans\": \"NOP\",\n",
    "    \"Brooklyn\": \"BRK\",\n",
    "    \"Oklahoma City\": \"OKC\",\n",
    "    \"Milwaukee\": \"MIL\",\n",
    "    \"Phoenix\": \"PHO\",\n",
    "    \"New York\": \"NYK\",\n",
    "    \"Atlanta\": \"ATL\",\n",
    "    \"Boston\": \"BOS\",\n",
    "    \"Chicago\": \"CHI\",\n",
    "    \"Dallas\": \"DAL\",\n",
    "    \"Denver\": \"DEN\",\n",
    "    \"Detroit\": \"DET\",\n",
    "    \"Golden State\": \"GSW\",\n",
    "    \"Houston\": \"HOU\",\n",
    "    \"Indiana\": \"IND\",\n",
    "    \"LA Clippers\": \"LAC\",\n",
    "    \"Memphis\": \"MEM\",\n",
    "    \"Miami\": \"MIA\",\n",
    "    \"Minnesota\": \"MIN\",\n",
    "    \"Orlando\": \"ORL\",\n",
    "    \"Philadelphia\": \"PHI\",\n",
    "    \"Portland\": \"POR\",\n",
    "    \"Sacramento\": \"SAC\",\n",
    "    \"San Antonio\": \"SAS\",\n",
    "    \"Toronto\": \"TOR\",\n",
    "    \"Utah\": \"UTA\",\n",
    "    \"Washington\": \"WAS\",\n",
    "}\n",
    "\n",
    "def rate_limit(requests, per_minute, last_request_time):\n",
    "    if len(requests) >= per_minute:\n",
    "        time_since_oldest_request = datetime.now() - requests[0]\n",
    "        if time_since_oldest_request < timedelta(minutes=1):\n",
    "            sleep_time = (timedelta(minutes=1) - time_since_oldest_request).total_seconds() + 1\n",
    "            print(f\"Rate limit reached, sleeping for {sleep_time} seconds.\")\n",
    "            time.sleep(sleep_time)\n",
    "        requests.pop(0)  # Remove the oldest request\n",
    "    requests.append(datetime.now())\n",
    "\n",
    "request_times = []\n",
    "\n",
    "def scrape_basic_box_score_stats(url, team_abbr):\n",
    "    headers = {\n",
    "        'User-Agent': 'Mozilla/5.0 (Macintosh; Intel Mac OS X 10.15; rv:86.0) Gecko/20100101 Firefox/86.0'\n",
    "    }\n",
    "    response = requests.get(url, headers=headers)\n",
    "    rate_limit(request_times, 9, datetime.now())\n",
    "    if response.status_code != 200:\n",
    "        print(f\"Failed to retrieve data from {url}\")\n",
    "        return {}\n",
    "    \n",
    "    soup = BeautifulSoup(response.content, 'html.parser')\n",
    "    table_id = f'box-{team_abbr}-game-basic'\n",
    "    table = soup.find('table', id=table_id)\n",
    "\n",
    "    desired_stats = {\n",
    "        'FGA': None,\n",
    "        'FG_pct': None,\n",
    "        'FTA': None,\n",
    "        'FT_pct': None,\n",
    "        'TRB': None,\n",
    "        'fg3a': None,\n",
    "        'fg3_pct': None,\n",
    "        'TOV': None,\n",
    "        'stl': None,\n",
    "        'blk': None,\n",
    "        'ast': None\n",
    "    }\n",
    "\n",
    "    if table:\n",
    "        totals_row = table.find('tfoot').find('tr')\n",
    "        if totals_row:\n",
    "            for stat in desired_stats.keys():\n",
    "                data_cell = totals_row.find('td', {'data-stat': stat.lower()})\n",
    "                if data_cell:\n",
    "                    desired_stats[stat] = data_cell.text.strip()\n",
    "\n",
    "    return desired_stats\n",
    "\n",
    "def scrape_general_game_info(date):\n",
    "    headers = {\n",
    "        'User-Agent': 'Mozilla/5.0 (Windows NT 10.0; Win64; x64) AppleWebKit/537.36 (KHTML, like Gecko) Chrome/88.0.4324.190 Safari/537.36'\n",
    "    }\n",
    "    url = f\"https://www.basketball-reference.com/boxscores/?month={date.month:02d}&day={date.day:02d}&year={date.year}\"\n",
    "    rate_limit(request_times, 9, datetime.now())  \n",
    "    response = requests.get(url, headers=headers)\n",
    "    if response.status_code != 200:\n",
    "        print(f\"Request failed for {url} with status code {response.status_code}\")\n",
    "        return []\n",
    "    \n",
    "    soup = BeautifulSoup(response.content, 'html.parser')\n",
    "    games_info = []\n",
    "\n",
    "    game_summaries = soup.find_all('div', class_='game_summary expanded nohover')\n",
    "    for game_summary in game_summaries:\n",
    "        teams = game_summary.find_all('tr', class_=['winner', 'loser'])\n",
    "        box_score_link_tag = game_summary.find('p', class_='links').find('a', text='Box Score')\n",
    "        if len(teams) == 2 and box_score_link_tag:\n",
    "            box_score_link = \"https://www.basketball-reference.com\" + box_score_link_tag['href']\n",
    "            team1, team1_score = teams[0].find('a').text.strip(), teams[0].find('td', class_='right').text.strip()\n",
    "            team2, team2_score = teams[1].find('a').text.strip(), teams[1].find('td', class_='right').text.strip()\n",
    "            game_info = {\n",
    "                'date': date.strftime('%Y-%m-%d'),\n",
    "                'team1': team1,\n",
    "                'team1_score': team1_score,\n",
    "                'team2': team2,\n",
    "                'team2_score': team2_score,\n",
    "                'box_score_link': box_score_link\n",
    "            }\n",
    "            # Scrape basic box score stats for both teams\n",
    "            #time.sleep(random.uniform(3, 6))\n",
    "            game_info['team1_stats'] = scrape_basic_box_score_stats(box_score_link, team_name_mapping[team1])\n",
    "            game_info['team2_stats'] = scrape_basic_box_score_stats(box_score_link, team_name_mapping[team2])\n",
    "            games_info.append(game_info)\n",
    "    return games_info"
   ]
  },
  {
   "cell_type": "code",
   "execution_count": 4,
   "id": "a3231c02",
   "metadata": {
    "scrolled": true
   },
   "outputs": [
    {
     "name": "stderr",
     "output_type": "stream",
     "text": [
      "Scraping Data:   0%|          | 0/157 [00:00<?, ?it/s]C:\\Users\\Tyler\\AppData\\Local\\Temp\\ipykernel_28028\\4122001294.py:104: DeprecationWarning: The 'text' argument to find()-type methods is deprecated. Use 'string' instead.\n",
      "  box_score_link_tag = game_summary.find('p', class_='links').find('a', text='Box Score')\n"
     ]
    },
    {
     "name": "stdout",
     "output_type": "stream",
     "text": [
      "Rate limit reached, sleeping for 45.115537 seconds.\n",
      "Rate limit reached, sleeping for 1.820209 seconds.\n",
      "Rate limit reached, sleeping for 2.230715 seconds.\n",
      "Rate limit reached, sleeping for 45.681781 seconds.\n",
      "Rate limit reached, sleeping for 1.621998 seconds.\n",
      "Rate limit reached, sleeping for 2.545918 seconds.\n"
     ]
    },
    {
     "name": "stderr",
     "output_type": "stream",
     "text": [
      "\r",
      "Scraping Data:   1%|          | 1/157 [02:17<5:57:54, 137.66s/it]"
     ]
    },
    {
     "name": "stdout",
     "output_type": "stream",
     "text": [
      "Rate limit reached, sleeping for 45.354366 seconds.\n",
      "Rate limit reached, sleeping for 1.544028 seconds.\n",
      "Rate limit reached, sleeping for 2.39054 seconds.\n"
     ]
    },
    {
     "name": "stderr",
     "output_type": "stream",
     "text": [
      "\r",
      "Scraping Data:   1%|▏         | 2/157 [03:18<3:59:10, 92.58s/it] "
     ]
    },
    {
     "name": "stdout",
     "output_type": "stream",
     "text": [
      "Rate limit reached, sleeping for 45.330553 seconds.\n",
      "Rate limit reached, sleeping for 1.418322 seconds.\n",
      "Rate limit reached, sleeping for 2.388483 seconds.\n",
      "Rate limit reached, sleeping for 44.872705 seconds.\n",
      "Rate limit reached, sleeping for 1.4875880000000001 seconds.\n",
      "Rate limit reached, sleeping for 2.047047 seconds.\n"
     ]
    },
    {
     "name": "stderr",
     "output_type": "stream",
     "text": [
      "\r",
      "Scraping Data:   2%|▏         | 3/157 [05:16<4:26:56, 104.00s/it]"
     ]
    },
    {
     "name": "stdout",
     "output_type": "stream",
     "text": [
      "Rate limit reached, sleeping for 45.434775 seconds.\n",
      "Rate limit reached, sleeping for 1.845008 seconds.\n",
      "Rate limit reached, sleeping for 1.516051 seconds.\n",
      "Rate limit reached, sleeping for 44.37077 seconds.\n",
      "Rate limit reached, sleeping for 1.78752 seconds.\n",
      "Rate limit reached, sleeping for 2.746494 seconds.\n"
     ]
    },
    {
     "name": "stderr",
     "output_type": "stream",
     "text": [
      "\r",
      "Scraping Data:   3%|▎         | 4/157 [07:16<4:42:01, 110.60s/it]"
     ]
    },
    {
     "name": "stdout",
     "output_type": "stream",
     "text": [
      "Rate limit reached, sleeping for 1.299601 seconds.\n",
      "Rate limit reached, sleeping for 45.182166 seconds.\n",
      "Rate limit reached, sleeping for 1.484597 seconds.\n",
      "Rate limit reached, sleeping for 2.2334259999999997 seconds.\n"
     ]
    },
    {
     "name": "stderr",
     "output_type": "stream",
     "text": [
      "\r",
      "Scraping Data:   3%|▎         | 5/157 [08:21<3:57:52, 93.90s/it] "
     ]
    },
    {
     "name": "stdout",
     "output_type": "stream",
     "text": [
      "Rate limit reached, sleeping for 43.734088 seconds.\n",
      "Rate limit reached, sleeping for 1.3280020000000001 seconds.\n",
      "Rate limit reached, sleeping for 1.5371190000000001 seconds.\n",
      "Rate limit reached, sleeping for 1.136378 seconds.\n",
      "Rate limit reached, sleeping for 42.900545 seconds.\n",
      "Rate limit reached, sleeping for 1.244959 seconds.\n",
      "Rate limit reached, sleeping for 2.4811579999999998 seconds.\n",
      "Rate limit reached, sleeping for 1.764844 seconds.\n",
      "Rate limit reached, sleeping for 43.427948 seconds.\n",
      "Rate limit reached, sleeping for 1.832678 seconds.\n",
      "Rate limit reached, sleeping for 2.167516 seconds.\n"
     ]
    },
    {
     "name": "stderr",
     "output_type": "stream",
     "text": [
      "Scraping Data:   4%|▍         | 7/157 [11:21<3:27:45, 83.10s/it] "
     ]
    },
    {
     "name": "stdout",
     "output_type": "stream",
     "text": [
      "Rate limit reached, sleeping for 1.102369 seconds.\n",
      "Rate limit reached, sleeping for 1.424733 seconds.\n",
      "Rate limit reached, sleeping for 43.578809 seconds.\n",
      "Rate limit reached, sleeping for 1.492961 seconds.\n",
      "Rate limit reached, sleeping for 1.871183 seconds.\n",
      "Rate limit reached, sleeping for 1.546082 seconds.\n",
      "Rate limit reached, sleeping for 43.712667 seconds.\n",
      "Rate limit reached, sleeping for 1.791944 seconds.\n",
      "Rate limit reached, sleeping for 2.312537 seconds.\n",
      "Rate limit reached, sleeping for 43.98788 seconds.\n",
      "Rate limit reached, sleeping for 1.6023939999999999 seconds.\n",
      "Rate limit reached, sleeping for 2.396395 seconds.\n"
     ]
    },
    {
     "name": "stderr",
     "output_type": "stream",
     "text": [
      "\r",
      "Scraping Data:   5%|▌         | 8/157 [14:28<4:48:01, 115.98s/it]"
     ]
    },
    {
     "name": "stdout",
     "output_type": "stream",
     "text": [
      "Rate limit reached, sleeping for 1.141902 seconds.\n",
      "Rate limit reached, sleeping for 44.081771 seconds.\n",
      "Rate limit reached, sleeping for 2.098243 seconds.\n"
     ]
    },
    {
     "name": "stderr",
     "output_type": "stream",
     "text": [
      "\r",
      "Scraping Data:   6%|▌         | 9/157 [15:21<3:57:35, 96.32s/it] "
     ]
    },
    {
     "name": "stdout",
     "output_type": "stream",
     "text": [
      "Rate limit reached, sleeping for 3.104755 seconds.\n",
      "Rate limit reached, sleeping for 1.2524359999999999 seconds.\n",
      "Rate limit reached, sleeping for 44.543849 seconds.\n",
      "Rate limit reached, sleeping for 2.00246 seconds.\n",
      "Rate limit reached, sleeping for 2.5530559999999998 seconds.\n",
      "Rate limit reached, sleeping for 1.619286 seconds.\n",
      "Rate limit reached, sleeping for 44.705981 seconds.\n",
      "Rate limit reached, sleeping for 1.795412 seconds.\n",
      "Rate limit reached, sleeping for 2.090709 seconds.\n"
     ]
    },
    {
     "name": "stderr",
     "output_type": "stream",
     "text": [
      "\r",
      "Scraping Data:   6%|▋         | 10/157 [17:26<4:18:10, 105.38s/it]"
     ]
    },
    {
     "name": "stdout",
     "output_type": "stream",
     "text": [
      "Rate limit reached, sleeping for 1.470864 seconds.\n",
      "Rate limit reached, sleeping for 44.651732 seconds.\n",
      "Rate limit reached, sleeping for 1.703816 seconds.\n",
      "Rate limit reached, sleeping for 2.482545 seconds.\n"
     ]
    },
    {
     "name": "stderr",
     "output_type": "stream",
     "text": [
      "\r",
      "Scraping Data:   7%|▋         | 11/157 [18:28<3:43:26, 91.82s/it] "
     ]
    },
    {
     "name": "stdout",
     "output_type": "stream",
     "text": [
      "Rate limit reached, sleeping for 1.354417 seconds.\n",
      "Rate limit reached, sleeping for 44.685739 seconds.\n",
      "Rate limit reached, sleeping for 1.7639 seconds.\n",
      "Rate limit reached, sleeping for 2.397864 seconds.\n",
      "Rate limit reached, sleeping for 45.340553 seconds.\n",
      "Rate limit reached, sleeping for 1.8467639999999999 seconds.\n",
      "Rate limit reached, sleeping for 2.340585 seconds.\n",
      "Rate limit reached, sleeping for 45.978456 seconds.\n"
     ]
    },
    {
     "name": "stderr",
     "output_type": "stream",
     "text": [
      "\r",
      "Scraping Data:   8%|▊         | 12/157 [21:21<4:42:05, 116.73s/it]"
     ]
    },
    {
     "name": "stdout",
     "output_type": "stream",
     "text": [
      "Rate limit reached, sleeping for 2.0551690000000002 seconds.\n",
      "Rate limit reached, sleeping for 2.5382949999999997 seconds.\n",
      "Rate limit reached, sleeping for 45.644195 seconds.\n"
     ]
    },
    {
     "name": "stderr",
     "output_type": "stream",
     "text": [
      "\r",
      "Scraping Data:   8%|▊         | 13/157 [22:22<3:59:40, 99.87s/it] "
     ]
    },
    {
     "name": "stdout",
     "output_type": "stream",
     "text": [
      "Rate limit reached, sleeping for 2.027629 seconds.\n",
      "Rate limit reached, sleeping for 2.132237 seconds.\n",
      "Rate limit reached, sleeping for 45.22977 seconds.\n",
      "Rate limit reached, sleeping for 2.075682 seconds.\n",
      "Rate limit reached, sleeping for 1.952029 seconds.\n",
      "Rate limit reached, sleeping for 45.06408 seconds.\n",
      "Rate limit reached, sleeping for 2.066987 seconds.\n"
     ]
    },
    {
     "name": "stderr",
     "output_type": "stream",
     "text": [
      "\r",
      "Scraping Data:   9%|▉         | 14/157 [24:30<4:17:50, 108.18s/it]"
     ]
    },
    {
     "name": "stdout",
     "output_type": "stream",
     "text": [
      "Rate limit reached, sleeping for 3.296948 seconds.\n",
      "Rate limit reached, sleeping for 44.35486 seconds.\n",
      "Rate limit reached, sleeping for 2.067099 seconds.\n",
      "Rate limit reached, sleeping for 2.798047 seconds.\n",
      "Rate limit reached, sleeping for 44.435124 seconds.\n",
      "Rate limit reached, sleeping for 1.816171 seconds.\n"
     ]
    },
    {
     "name": "stderr",
     "output_type": "stream",
     "text": [
      "\r",
      "Scraping Data:  10%|▉         | 15/157 [26:31<4:25:10, 112.05s/it]"
     ]
    },
    {
     "name": "stdout",
     "output_type": "stream",
     "text": [
      "Rate limit reached, sleeping for 3.032247 seconds.\n"
     ]
    },
    {
     "name": "stderr",
     "output_type": "stream",
     "text": [
      "\r",
      "Scraping Data:  10%|█         | 16/157 [26:40<3:10:23, 81.02s/it] "
     ]
    },
    {
     "name": "stdout",
     "output_type": "stream",
     "text": [
      "Rate limit reached, sleeping for 1.056489 seconds.\n",
      "Rate limit reached, sleeping for 44.369252 seconds.\n",
      "Rate limit reached, sleeping for 1.9872459999999998 seconds.\n",
      "Rate limit reached, sleeping for 2.6408180000000003 seconds.\n",
      "Rate limit reached, sleeping for 45.531188 seconds.\n",
      "Rate limit reached, sleeping for 2.0337810000000003 seconds.\n",
      "Rate limit reached, sleeping for 2.5224159999999998 seconds.\n",
      "Rate limit reached, sleeping for 45.855257 seconds.\n",
      "Rate limit reached, sleeping for 2.0741709999999998 seconds.\n"
     ]
    },
    {
     "name": "stderr",
     "output_type": "stream",
     "text": [
      "\r",
      "Scraping Data:  11%|█         | 17/157 [29:35<4:15:10, 109.36s/it]"
     ]
    },
    {
     "name": "stdout",
     "output_type": "stream",
     "text": [
      "Rate limit reached, sleeping for 3.134577 seconds.\n",
      "Rate limit reached, sleeping for 43.5494 seconds.\n",
      "Rate limit reached, sleeping for 1.9983300000000002 seconds.\n",
      "Rate limit reached, sleeping for 2.5416499999999997 seconds.\n",
      "Rate limit reached, sleeping for 1.934933 seconds.\n"
     ]
    },
    {
     "name": "stderr",
     "output_type": "stream",
     "text": [
      "\r",
      "Scraping Data:  11%|█▏        | 18/157 [30:45<3:45:53, 97.50s/it] "
     ]
    },
    {
     "name": "stdout",
     "output_type": "stream",
     "text": [
      "Rate limit reached, sleeping for 1.118253 seconds.\n",
      "Rate limit reached, sleeping for 43.329778 seconds.\n",
      "Rate limit reached, sleeping for 1.358216 seconds.\n",
      "Rate limit reached, sleeping for 2.481569 seconds.\n",
      "Rate limit reached, sleeping for 1.5270899999999998 seconds.\n",
      "Rate limit reached, sleeping for 43.226969 seconds.\n",
      "Rate limit reached, sleeping for 1.361774 seconds.\n",
      "Rate limit reached, sleeping for 1.183052 seconds.\n"
     ]
    },
    {
     "name": "stderr",
     "output_type": "stream",
     "text": [
      "\r",
      "Scraping Data:  12%|█▏        | 19/157 [32:50<4:03:11, 105.73s/it]"
     ]
    },
    {
     "name": "stdout",
     "output_type": "stream",
     "text": [
      "Rate limit reached, sleeping for 43.062144 seconds.\n",
      "Rate limit reached, sleeping for 1.773812 seconds.\n",
      "Rate limit reached, sleeping for 1.148556 seconds.\n",
      "Rate limit reached, sleeping for 1.292535 seconds.\n",
      "Rate limit reached, sleeping for 42.168051 seconds.\n",
      "Rate limit reached, sleeping for 2.106928 seconds.\n",
      "Rate limit reached, sleeping for 1.981947 seconds.\n",
      "Rate limit reached, sleeping for 1.439691 seconds.\n"
     ]
    },
    {
     "name": "stderr",
     "output_type": "stream",
     "text": [
      "\r",
      "Scraping Data:  13%|█▎        | 20/157 [34:49<4:10:55, 109.89s/it]"
     ]
    },
    {
     "name": "stdout",
     "output_type": "stream",
     "text": [
      "Rate limit reached, sleeping for 1.6675849999999999 seconds.\n",
      "Rate limit reached, sleeping for 42.229805 seconds.\n",
      "Rate limit reached, sleeping for 2.18473 seconds.\n",
      "Rate limit reached, sleeping for 1.9672070000000001 seconds.\n",
      "Rate limit reached, sleeping for 1.668223 seconds.\n",
      "Rate limit reached, sleeping for 43.188831 seconds.\n"
     ]
    },
    {
     "name": "stderr",
     "output_type": "stream",
     "text": [
      "\r",
      "Scraping Data:  13%|█▎        | 21/157 [36:37<4:07:19, 109.12s/it]"
     ]
    },
    {
     "name": "stdout",
     "output_type": "stream",
     "text": [
      "Rate limit reached, sleeping for 2.6553880000000003 seconds.\n",
      "Rate limit reached, sleeping for 1.796453 seconds.\n",
      "Rate limit reached, sleeping for 1.6278869999999999 seconds.\n",
      "Rate limit reached, sleeping for 43.397226 seconds.\n",
      "Rate limit reached, sleeping for 2.310066 seconds.\n",
      "Rate limit reached, sleeping for 1.790778 seconds.\n",
      "Rate limit reached, sleeping for 1.589362 seconds.\n",
      "Rate limit reached, sleeping for 43.523575 seconds.\n",
      "Rate limit reached, sleeping for 2.4212249999999997 seconds.\n",
      "Rate limit reached, sleeping for 2.5075760000000002 seconds.\n",
      "Rate limit reached, sleeping for 1.5293510000000001 seconds.\n",
      "Rate limit reached, sleeping for 44.394624 seconds.\n",
      "Rate limit reached, sleeping for 2.021919 seconds.\n"
     ]
    },
    {
     "name": "stderr",
     "output_type": "stream",
     "text": [
      "Scraping Data:  15%|█▍        | 23/157 [39:45<3:27:53, 93.09s/it] "
     ]
    },
    {
     "name": "stdout",
     "output_type": "stream",
     "text": [
      "Rate limit reached, sleeping for 3.194085 seconds.\n",
      "Rate limit reached, sleeping for 1.464131 seconds.\n",
      "Rate limit reached, sleeping for 44.420202 seconds.\n",
      "Rate limit reached, sleeping for 2.152978 seconds.\n",
      "Rate limit reached, sleeping for 1.252998 seconds.\n",
      "Rate limit reached, sleeping for 1.620854 seconds.\n",
      "Rate limit reached, sleeping for 44.188796 seconds.\n",
      "Rate limit reached, sleeping for 2.113161 seconds.\n",
      "Rate limit reached, sleeping for 1.6828910000000001 seconds.\n",
      "Rate limit reached, sleeping for 1.541178 seconds.\n"
     ]
    },
    {
     "name": "stderr",
     "output_type": "stream",
     "text": [
      "\r",
      "Scraping Data:  15%|█▌        | 24/157 [41:55<3:50:43, 104.08s/it]"
     ]
    },
    {
     "name": "stdout",
     "output_type": "stream",
     "text": [
      "Rate limit reached, sleeping for 44.481378 seconds.\n",
      "Rate limit reached, sleeping for 1.774458 seconds.\n",
      "Rate limit reached, sleeping for 2.26246 seconds.\n",
      "Rate limit reached, sleeping for 1.406923 seconds.\n",
      "Rate limit reached, sleeping for 44.142562 seconds.\n",
      "Rate limit reached, sleeping for 2.303534 seconds.\n"
     ]
    },
    {
     "name": "stderr",
     "output_type": "stream",
     "text": [
      "\r",
      "Scraping Data:  16%|█▌        | 25/157 [43:47<3:54:32, 106.61s/it]"
     ]
    },
    {
     "name": "stdout",
     "output_type": "stream",
     "text": [
      "Rate limit reached, sleeping for 1.8643619999999999 seconds.\n",
      "Rate limit reached, sleeping for 1.605315 seconds.\n",
      "Rate limit reached, sleeping for 44.241705 seconds.\n",
      "Rate limit reached, sleeping for 2.0974839999999997 seconds.\n",
      "Rate limit reached, sleeping for 1.549115 seconds.\n",
      "Rate limit reached, sleeping for 1.578894 seconds.\n",
      "Rate limit reached, sleeping for 43.67998 seconds.\n"
     ]
    },
    {
     "name": "stderr",
     "output_type": "stream",
     "text": [
      "\r",
      "Scraping Data:  17%|█▋        | 26/157 [45:46<4:00:26, 110.13s/it]"
     ]
    },
    {
     "name": "stdout",
     "output_type": "stream",
     "text": [
      "Rate limit reached, sleeping for 2.840155 seconds.\n",
      "Rate limit reached, sleeping for 1.493174 seconds.\n",
      "Rate limit reached, sleeping for 1.4777719999999999 seconds.\n",
      "Rate limit reached, sleeping for 43.699826 seconds.\n",
      "Rate limit reached, sleeping for 2.123869 seconds.\n"
     ]
    },
    {
     "name": "stderr",
     "output_type": "stream",
     "text": [
      "\r",
      "Scraping Data:  17%|█▋        | 27/157 [46:51<3:29:37, 96.75s/it] "
     ]
    },
    {
     "name": "stdout",
     "output_type": "stream",
     "text": [
      "Rate limit reached, sleeping for 1.290661 seconds.\n",
      "Rate limit reached, sleeping for 1.273774 seconds.\n",
      "Rate limit reached, sleeping for 1.475183 seconds.\n",
      "Rate limit reached, sleeping for 43.302593 seconds.\n",
      "Rate limit reached, sleeping for 2.1170299999999997 seconds.\n",
      "Rate limit reached, sleeping for 2.5230930000000003 seconds.\n",
      "Rate limit reached, sleeping for 1.617188 seconds.\n",
      "Rate limit reached, sleeping for 42.500693 seconds.\n",
      "Rate limit reached, sleeping for 2.353513 seconds.\n"
     ]
    },
    {
     "name": "stderr",
     "output_type": "stream",
     "text": [
      "\r",
      "Scraping Data:  18%|█▊        | 28/157 [48:52<3:43:35, 104.00s/it]"
     ]
    },
    {
     "name": "stdout",
     "output_type": "stream",
     "text": [
      "Rate limit reached, sleeping for 2.39046 seconds.\n",
      "Rate limit reached, sleeping for 1.523548 seconds.\n",
      "Rate limit reached, sleeping for 41.306332 seconds.\n",
      "Rate limit reached, sleeping for 2.188021 seconds.\n",
      "Rate limit reached, sleeping for 1.479836 seconds.\n",
      "Rate limit reached, sleeping for 2.450816 seconds.\n"
     ]
    },
    {
     "name": "stderr",
     "output_type": "stream",
     "text": [
      "\r",
      "Scraping Data:  18%|█▊        | 29/157 [50:04<3:21:30, 94.46s/it] "
     ]
    },
    {
     "name": "stdout",
     "output_type": "stream",
     "text": [
      "Rate limit reached, sleeping for 1.741487 seconds.\n",
      "Rate limit reached, sleeping for 42.585253 seconds.\n",
      "Rate limit reached, sleeping for 2.292693 seconds.\n",
      "Rate limit reached, sleeping for 1.479114 seconds.\n",
      "Rate limit reached, sleeping for 2.185336 seconds.\n",
      "Rate limit reached, sleeping for 1.5439880000000001 seconds.\n",
      "Rate limit reached, sleeping for 42.839932 seconds.\n",
      "Rate limit reached, sleeping for 2.163274 seconds.\n",
      "Rate limit reached, sleeping for 1.670558 seconds.\n",
      "Rate limit reached, sleeping for 2.5362720000000003 seconds.\n"
     ]
    },
    {
     "name": "stderr",
     "output_type": "stream",
     "text": [
      "\r",
      "Scraping Data:  19%|█▉        | 30/157 [52:08<3:38:16, 103.12s/it]"
     ]
    },
    {
     "name": "stdout",
     "output_type": "stream",
     "text": [
      "Rate limit reached, sleeping for 44.462784 seconds.\n",
      "Rate limit reached, sleeping for 1.059973 seconds.\n",
      "Rate limit reached, sleeping for 1.575547 seconds.\n",
      "Rate limit reached, sleeping for 2.356466 seconds.\n",
      "Rate limit reached, sleeping for 43.798855 seconds.\n",
      "Rate limit reached, sleeping for 1.395182 seconds.\n",
      "Rate limit reached, sleeping for 2.2961910000000003 seconds.\n"
     ]
    },
    {
     "name": "stderr",
     "output_type": "stream",
     "text": [
      "\r",
      "Scraping Data:  20%|█▉        | 31/157 [54:01<3:43:04, 106.23s/it]"
     ]
    },
    {
     "name": "stdout",
     "output_type": "stream",
     "text": [
      "Rate limit reached, sleeping for 2.7440379999999998 seconds.\n",
      "Rate limit reached, sleeping for 44.290877 seconds.\n",
      "Rate limit reached, sleeping for 1.304233 seconds.\n",
      "Rate limit reached, sleeping for 2.131772 seconds.\n",
      "Rate limit reached, sleeping for 2.286046 seconds.\n",
      "Rate limit reached, sleeping for 43.980126 seconds.\n",
      "Rate limit reached, sleeping for 2.289962 seconds.\n",
      "Rate limit reached, sleeping for 44.24146 seconds.\n"
     ]
    },
    {
     "name": "stderr",
     "output_type": "stream",
     "text": [
      "\r",
      "Scraping Data:  20%|██        | 32/157 [56:58<4:25:33, 127.47s/it]"
     ]
    },
    {
     "name": "stdout",
     "output_type": "stream",
     "text": [
      "Rate limit reached, sleeping for 1.440066 seconds.\n"
     ]
    },
    {
     "name": "stderr",
     "output_type": "stream",
     "text": [
      "\r",
      "Scraping Data:  21%|██        | 33/157 [57:00<3:05:48, 89.90s/it] "
     ]
    },
    {
     "name": "stdout",
     "output_type": "stream",
     "text": [
      "Rate limit reached, sleeping for 3.088184 seconds.\n",
      "Rate limit reached, sleeping for 1.439807 seconds.\n"
     ]
    },
    {
     "name": "stderr",
     "output_type": "stream",
     "text": [
      "\r",
      "Scraping Data:  22%|██▏       | 34/157 [57:11<2:15:27, 66.08s/it]"
     ]
    },
    {
     "name": "stdout",
     "output_type": "stream",
     "text": [
      "Rate limit reached, sleeping for 44.881505 seconds.\n",
      "Rate limit reached, sleeping for 3.233695 seconds.\n"
     ]
    },
    {
     "name": "stderr",
     "output_type": "stream",
     "text": [
      "\r",
      "Scraping Data:  22%|██▏       | 35/157 [58:05<2:07:14, 62.58s/it]"
     ]
    },
    {
     "name": "stdout",
     "output_type": "stream",
     "text": [
      "Rate limit reached, sleeping for 1.6892209999999999 seconds.\n",
      "Rate limit reached, sleeping for 44.275182 seconds.\n",
      "Rate limit reached, sleeping for 2.912445 seconds.\n",
      "Rate limit reached, sleeping for 1.434383 seconds.\n",
      "Rate limit reached, sleeping for 44.493737 seconds.\n",
      "Rate limit reached, sleeping for 3.737541 seconds.\n",
      "Rate limit reached, sleeping for 1.376007 seconds.\n"
     ]
    },
    {
     "name": "stderr",
     "output_type": "stream",
     "text": [
      "\r",
      "Scraping Data:  23%|██▎       | 36/157 [1:00:15<2:46:40, 82.65s/it]"
     ]
    },
    {
     "name": "stdout",
     "output_type": "stream",
     "text": [
      "Rate limit reached, sleeping for 45.436378 seconds.\n",
      "Rate limit reached, sleeping for 3.576049 seconds.\n"
     ]
    },
    {
     "name": "stderr",
     "output_type": "stream",
     "text": [
      "\r",
      "Scraping Data:  24%|██▎       | 37/157 [1:01:10<2:28:39, 74.33s/it]"
     ]
    },
    {
     "name": "stdout",
     "output_type": "stream",
     "text": [
      "Rate limit reached, sleeping for 1.834588 seconds.\n",
      "Rate limit reached, sleeping for 44.115671 seconds.\n",
      "Rate limit reached, sleeping for 3.749047 seconds.\n",
      "Rate limit reached, sleeping for 1.5014720000000001 seconds.\n",
      "Rate limit reached, sleeping for 1.040655 seconds.\n",
      "Rate limit reached, sleeping for 44.215133 seconds.\n",
      "Rate limit reached, sleeping for 3.294401 seconds.\n",
      "Rate limit reached, sleeping for 1.3351060000000001 seconds.\n",
      "Rate limit reached, sleeping for 44.373695 seconds.\n",
      "Rate limit reached, sleeping for 2.888442 seconds.\n"
     ]
    },
    {
     "name": "stderr",
     "output_type": "stream",
     "text": [
      "\r",
      "Scraping Data:  24%|██▍       | 38/157 [1:04:12<3:31:50, 106.81s/it]"
     ]
    },
    {
     "name": "stdout",
     "output_type": "stream",
     "text": [
      "Rate limit reached, sleeping for 2.247879 seconds.\n"
     ]
    },
    {
     "name": "stderr",
     "output_type": "stream",
     "text": [
      "Scraping Data:  25%|██▌       | 40/157 [1:04:19<1:45:09, 53.92s/it] "
     ]
    },
    {
     "name": "stdout",
     "output_type": "stream",
     "text": [
      "Rate limit reached, sleeping for 44.851451 seconds.\n",
      "Rate limit reached, sleeping for 2.697917 seconds.\n",
      "Rate limit reached, sleeping for 1.446261 seconds.\n",
      "Rate limit reached, sleeping for 1.449081 seconds.\n",
      "Rate limit reached, sleeping for 43.213718 seconds.\n",
      "Rate limit reached, sleeping for 3.539187 seconds.\n",
      "Rate limit reached, sleeping for 1.358149 seconds.\n",
      "Rate limit reached, sleeping for 1.103927 seconds.\n",
      "Rate limit reached, sleeping for 43.438105 seconds.\n",
      "Rate limit reached, sleeping for 3.094629 seconds.\n",
      "Rate limit reached, sleeping for 1.9602279999999999 seconds.\n"
     ]
    },
    {
     "name": "stderr",
     "output_type": "stream",
     "text": [
      "\r",
      "Scraping Data:  26%|██▌       | 41/157 [1:07:24<2:59:55, 93.07s/it]"
     ]
    },
    {
     "name": "stdout",
     "output_type": "stream",
     "text": [
      "Rate limit reached, sleeping for 43.484496 seconds.\n",
      "Rate limit reached, sleeping for 3.19238 seconds.\n",
      "Rate limit reached, sleeping for 2.749236 seconds.\n",
      "Rate limit reached, sleeping for 43.10671 seconds.\n"
     ]
    },
    {
     "name": "stderr",
     "output_type": "stream",
     "text": [
      "\r",
      "Scraping Data:  27%|██▋       | 42/157 [1:09:11<3:06:39, 97.39s/it]"
     ]
    },
    {
     "name": "stdout",
     "output_type": "stream",
     "text": [
      "Rate limit reached, sleeping for 2.702203 seconds.\n",
      "Rate limit reached, sleeping for 2.835057 seconds.\n",
      "Rate limit reached, sleeping for 42.594169 seconds.\n",
      "Rate limit reached, sleeping for 3.833301 seconds.\n",
      "Rate limit reached, sleeping for 3.244889 seconds.\n",
      "Rate limit reached, sleeping for 42.715582 seconds.\n"
     ]
    },
    {
     "name": "stderr",
     "output_type": "stream",
     "text": [
      "\r",
      "Scraping Data:  27%|██▋       | 43/157 [1:11:13<3:19:00, 104.74s/it]"
     ]
    },
    {
     "name": "stdout",
     "output_type": "stream",
     "text": [
      "Rate limit reached, sleeping for 4.4430130000000005 seconds.\n",
      "Rate limit reached, sleeping for 2.325234 seconds.\n",
      "Rate limit reached, sleeping for 43.590044 seconds.\n",
      "Rate limit reached, sleeping for 3.819165 seconds.\n",
      "Rate limit reached, sleeping for 2.817214 seconds.\n"
     ]
    },
    {
     "name": "stderr",
     "output_type": "stream",
     "text": [
      "\r",
      "Scraping Data:  28%|██▊       | 44/157 [1:12:28<3:00:24, 95.79s/it] "
     ]
    },
    {
     "name": "stdout",
     "output_type": "stream",
     "text": [
      "Rate limit reached, sleeping for 44.243382 seconds.\n",
      "Rate limit reached, sleeping for 3.332401 seconds.\n",
      "Rate limit reached, sleeping for 2.545332 seconds.\n",
      "Rate limit reached, sleeping for 43.13479 seconds.\n",
      "Rate limit reached, sleeping for 3.651535 seconds.\n",
      "Rate limit reached, sleeping for 2.878072 seconds.\n"
     ]
    },
    {
     "name": "stderr",
     "output_type": "stream",
     "text": [
      "\r",
      "Scraping Data:  29%|██▊       | 45/157 [1:14:29<3:13:00, 103.39s/it]"
     ]
    },
    {
     "name": "stdout",
     "output_type": "stream",
     "text": [
      "Rate limit reached, sleeping for 42.674829 seconds.\n",
      "Rate limit reached, sleeping for 2.6624879999999997 seconds.\n",
      "Rate limit reached, sleeping for 3.235085 seconds.\n",
      "Rate limit reached, sleeping for 43.57925 seconds.\n",
      "Rate limit reached, sleeping for 3.097429 seconds.\n",
      "Rate limit reached, sleeping for 3.236943 seconds.\n",
      "Rate limit reached, sleeping for 43.552932 seconds.\n"
     ]
    },
    {
     "name": "stderr",
     "output_type": "stream",
     "text": [
      "\r",
      "Scraping Data:  29%|██▉       | 46/157 [1:17:18<3:47:44, 123.11s/it]"
     ]
    },
    {
     "name": "stdout",
     "output_type": "stream",
     "text": [
      "Rate limit reached, sleeping for 3.768446 seconds.\n",
      "Rate limit reached, sleeping for 2.846553 seconds.\n",
      "Rate limit reached, sleeping for 43.852993 seconds.\n",
      "Rate limit reached, sleeping for 3.450439 seconds.\n"
     ]
    },
    {
     "name": "stderr",
     "output_type": "stream",
     "text": [
      "\r",
      "Scraping Data:  30%|██▉       | 47/157 [1:18:25<3:14:49, 106.27s/it]"
     ]
    },
    {
     "name": "stdout",
     "output_type": "stream",
     "text": [
      "Rate limit reached, sleeping for 2.960362 seconds.\n",
      "Rate limit reached, sleeping for 42.705457 seconds.\n",
      "Rate limit reached, sleeping for 3.549116 seconds.\n",
      "Rate limit reached, sleeping for 2.74883 seconds.\n",
      "Rate limit reached, sleeping for 43.41981 seconds.\n",
      "Rate limit reached, sleeping for 2.3362179999999997 seconds.\n",
      "Rate limit reached, sleeping for 2.9835979999999998 seconds.\n"
     ]
    },
    {
     "name": "stderr",
     "output_type": "stream",
     "text": [
      "\r",
      "Scraping Data:  31%|███       | 48/157 [1:20:37<3:26:56, 113.92s/it]"
     ]
    },
    {
     "name": "stdout",
     "output_type": "stream",
     "text": [
      "Rate limit reached, sleeping for 43.339519 seconds.\n",
      "Rate limit reached, sleeping for 1.064166 seconds.\n",
      "Rate limit reached, sleeping for 2.891285 seconds.\n"
     ]
    },
    {
     "name": "stderr",
     "output_type": "stream",
     "text": [
      "\r",
      "Scraping Data:  31%|███       | 49/157 [1:21:37<2:56:09, 97.87s/it] "
     ]
    },
    {
     "name": "stdout",
     "output_type": "stream",
     "text": [
      "Rate limit reached, sleeping for 43.932171 seconds.\n",
      "Rate limit reached, sleeping for 2.427149 seconds.\n",
      "Rate limit reached, sleeping for 2.297334 seconds.\n",
      "Rate limit reached, sleeping for 43.292534 seconds.\n",
      "Rate limit reached, sleeping for 1.573311 seconds.\n",
      "Rate limit reached, sleeping for 2.552078 seconds.\n",
      "Rate limit reached, sleeping for 1.864841 seconds.\n",
      "Rate limit reached, sleeping for 43.406845 seconds.\n",
      "Rate limit reached, sleeping for 1.292027 seconds.\n"
     ]
    },
    {
     "name": "stderr",
     "output_type": "stream",
     "text": [
      "\r",
      "Scraping Data:  32%|███▏      | 50/157 [1:24:28<3:33:10, 119.54s/it]"
     ]
    },
    {
     "name": "stdout",
     "output_type": "stream",
     "text": [
      "Rate limit reached, sleeping for 3.160893 seconds.\n",
      "Rate limit reached, sleeping for 2.890645 seconds.\n",
      "Rate limit reached, sleeping for 42.942045 seconds.\n",
      "Rate limit reached, sleeping for 1.3577759999999999 seconds.\n",
      "Rate limit reached, sleeping for 2.639992 seconds.\n",
      "Rate limit reached, sleeping for 3.328569 seconds.\n",
      "Rate limit reached, sleeping for 43.823148 seconds.\n",
      "Rate limit reached, sleeping for 1.118006 seconds.\n"
     ]
    },
    {
     "name": "stderr",
     "output_type": "stream",
     "text": [
      "\r",
      "Scraping Data:  32%|███▏      | 51/157 [1:26:29<3:32:02, 120.03s/it]"
     ]
    },
    {
     "name": "stdout",
     "output_type": "stream",
     "text": [
      "Rate limit reached, sleeping for 1.3777 seconds.\n",
      "Rate limit reached, sleeping for 2.686001 seconds.\n",
      "Rate limit reached, sleeping for 43.15674 seconds.\n",
      "Rate limit reached, sleeping for 1.465182 seconds.\n",
      "Rate limit reached, sleeping for 1.997252 seconds.\n"
     ]
    },
    {
     "name": "stderr",
     "output_type": "stream",
     "text": [
      "\r",
      "Scraping Data:  33%|███▎      | 52/157 [1:27:37<3:03:02, 104.59s/it]"
     ]
    },
    {
     "name": "stdout",
     "output_type": "stream",
     "text": [
      "Rate limit reached, sleeping for 3.071639 seconds.\n",
      "Rate limit reached, sleeping for 41.798713 seconds.\n",
      "Rate limit reached, sleeping for 1.397334 seconds.\n",
      "Rate limit reached, sleeping for 2.259075 seconds.\n",
      "Rate limit reached, sleeping for 2.101334 seconds.\n",
      "Rate limit reached, sleeping for 1.556912 seconds.\n",
      "Rate limit reached, sleeping for 41.681078 seconds.\n",
      "Rate limit reached, sleeping for 1.120397 seconds.\n",
      "Rate limit reached, sleeping for 2.289224 seconds.\n",
      "Rate limit reached, sleeping for 2.609217 seconds.\n",
      "Rate limit reached, sleeping for 1.558901 seconds.\n",
      "Rate limit reached, sleeping for 41.465495 seconds.\n",
      "Rate limit reached, sleeping for 1.166677 seconds.\n",
      "Rate limit reached, sleeping for 2.224266 seconds.\n"
     ]
    },
    {
     "name": "stderr",
     "output_type": "stream",
     "text": [
      "\r",
      "Scraping Data:  34%|███▍      | 53/157 [1:30:41<3:42:19, 128.26s/it]"
     ]
    },
    {
     "name": "stdout",
     "output_type": "stream",
     "text": [
      "Rate limit reached, sleeping for 2.623644 seconds.\n"
     ]
    },
    {
     "name": "stderr",
     "output_type": "stream",
     "text": [
      "\r",
      "Scraping Data:  34%|███▍      | 54/157 [1:30:44<2:35:56, 90.84s/it] "
     ]
    },
    {
     "name": "stdout",
     "output_type": "stream",
     "text": [
      "Rate limit reached, sleeping for 1.8952170000000002 seconds.\n",
      "Rate limit reached, sleeping for 41.701994 seconds.\n",
      "Rate limit reached, sleeping for 1.303784 seconds.\n",
      "Rate limit reached, sleeping for 2.0395380000000003 seconds.\n",
      "Rate limit reached, sleeping for 1.400437 seconds.\n"
     ]
    },
    {
     "name": "stderr",
     "output_type": "stream",
     "text": [
      "\r",
      "Scraping Data:  35%|███▌      | 55/157 [1:31:50<2:21:37, 83.31s/it]"
     ]
    },
    {
     "name": "stdout",
     "output_type": "stream",
     "text": [
      "Rate limit reached, sleeping for 41.417107 seconds.\n",
      "Rate limit reached, sleeping for 1.270618 seconds.\n",
      "Rate limit reached, sleeping for 1.467111 seconds.\n",
      "Rate limit reached, sleeping for 1.076218 seconds.\n",
      "Rate limit reached, sleeping for 2.0243349999999998 seconds.\n",
      "Rate limit reached, sleeping for 1.445787 seconds.\n",
      "Rate limit reached, sleeping for 41.642904 seconds.\n",
      "Rate limit reached, sleeping for 1.3313679999999999 seconds.\n",
      "Rate limit reached, sleeping for 1.149937 seconds.\n",
      "Rate limit reached, sleeping for 2.9140680000000003 seconds.\n",
      "Rate limit reached, sleeping for 1.135836 seconds.\n",
      "Rate limit reached, sleeping for 40.802891 seconds.\n"
     ]
    },
    {
     "name": "stderr",
     "output_type": "stream",
     "text": [
      "\r",
      "Scraping Data:  36%|███▌      | 56/157 [1:34:34<3:01:01, 107.54s/it]"
     ]
    },
    {
     "name": "stdout",
     "output_type": "stream",
     "text": [
      "Rate limit reached, sleeping for 1.221541 seconds.\n",
      "Rate limit reached, sleeping for 1.7452320000000001 seconds.\n",
      "Rate limit reached, sleeping for 3.234244 seconds.\n",
      "Rate limit reached, sleeping for 1.7835800000000002 seconds.\n",
      "Rate limit reached, sleeping for 41.805613 seconds.\n",
      "Rate limit reached, sleeping for 1.657316 seconds.\n",
      "Rate limit reached, sleeping for 1.655325 seconds.\n"
     ]
    },
    {
     "name": "stderr",
     "output_type": "stream",
     "text": [
      "\r",
      "Scraping Data:  36%|███▋      | 57/157 [1:35:43<2:40:01, 96.02s/it] "
     ]
    },
    {
     "name": "stdout",
     "output_type": "stream",
     "text": [
      "Rate limit reached, sleeping for 2.930499 seconds.\n",
      "Rate limit reached, sleeping for 1.581898 seconds.\n",
      "Rate limit reached, sleeping for 41.807157 seconds.\n",
      "Rate limit reached, sleeping for 1.605333 seconds.\n",
      "Rate limit reached, sleeping for 3.666601 seconds.\n",
      "Rate limit reached, sleeping for 1.483719 seconds.\n",
      "Rate limit reached, sleeping for 40.567968 seconds.\n",
      "Rate limit reached, sleeping for 1.283905 seconds.\n",
      "Rate limit reached, sleeping for 1.452789 seconds.\n"
     ]
    },
    {
     "name": "stderr",
     "output_type": "stream",
     "text": [
      "\r",
      "Scraping Data:  37%|███▋      | 58/157 [1:37:44<2:50:45, 103.49s/it]"
     ]
    },
    {
     "name": "stdout",
     "output_type": "stream",
     "text": [
      "Rate limit reached, sleeping for 3.585973 seconds.\n",
      "Rate limit reached, sleeping for 1.526755 seconds.\n",
      "Rate limit reached, sleeping for 41.815493 seconds.\n",
      "Rate limit reached, sleeping for 1.147788 seconds.\n",
      "Rate limit reached, sleeping for 1.95736 seconds.\n",
      "Rate limit reached, sleeping for 3.370403 seconds.\n",
      "Rate limit reached, sleeping for 1.701414 seconds.\n",
      "Rate limit reached, sleeping for 42.068145 seconds.\n",
      "Rate limit reached, sleeping for 1.217064 seconds.\n",
      "Rate limit reached, sleeping for 1.939908 seconds.\n",
      "Rate limit reached, sleeping for 2.7348809999999997 seconds.\n"
     ]
    },
    {
     "name": "stderr",
     "output_type": "stream",
     "text": [
      "\r",
      "Scraping Data:  38%|███▊      | 59/157 [1:39:53<3:01:28, 111.11s/it]"
     ]
    },
    {
     "name": "stdout",
     "output_type": "stream",
     "text": [
      "Rate limit reached, sleeping for 2.198741 seconds.\n",
      "Rate limit reached, sleeping for 41.542683 seconds.\n",
      "Rate limit reached, sleeping for 1.04278 seconds.\n",
      "Rate limit reached, sleeping for 2.090771 seconds.\n",
      "Rate limit reached, sleeping for 3.158852 seconds.\n",
      "Rate limit reached, sleeping for 1.456056 seconds.\n",
      "Rate limit reached, sleeping for 42.052015 seconds.\n",
      "Rate limit reached, sleeping for 1.502597 seconds.\n"
     ]
    },
    {
     "name": "stderr",
     "output_type": "stream",
     "text": [
      "\r",
      "Scraping Data:  38%|███▊      | 60/157 [1:41:44<2:59:22, 110.95s/it]"
     ]
    },
    {
     "name": "stdout",
     "output_type": "stream",
     "text": [
      "Rate limit reached, sleeping for 4.003538 seconds.\n",
      "Rate limit reached, sleeping for 1.089243 seconds.\n",
      "Rate limit reached, sleeping for 41.688918 seconds.\n",
      "Rate limit reached, sleeping for 1.365275 seconds.\n"
     ]
    },
    {
     "name": "stderr",
     "output_type": "stream",
     "text": [
      "\r",
      "Scraping Data:  39%|███▉      | 61/157 [1:42:51<2:36:26, 97.77s/it] "
     ]
    },
    {
     "name": "stdout",
     "output_type": "stream",
     "text": [
      "Rate limit reached, sleeping for 4.877949 seconds.\n",
      "Rate limit reached, sleeping for 1.222157 seconds.\n",
      "Rate limit reached, sleeping for 41.347877 seconds.\n",
      "Rate limit reached, sleeping for 1.213977 seconds.\n",
      "Rate limit reached, sleeping for 4.328634 seconds.\n",
      "Rate limit reached, sleeping for 1.631737 seconds.\n",
      "Rate limit reached, sleeping for 41.678948 seconds.\n",
      "Rate limit reached, sleeping for 1.115446 seconds.\n"
     ]
    },
    {
     "name": "stderr",
     "output_type": "stream",
     "text": [
      "\r",
      "Scraping Data:  39%|███▉      | 62/157 [1:44:50<2:45:00, 104.22s/it]"
     ]
    },
    {
     "name": "stdout",
     "output_type": "stream",
     "text": [
      "Rate limit reached, sleeping for 1.4702549999999999 seconds.\n",
      "Rate limit reached, sleeping for 4.547525 seconds.\n",
      "Rate limit reached, sleeping for 1.667548 seconds.\n",
      "Rate limit reached, sleeping for 41.738534 seconds.\n",
      "Rate limit reached, sleeping for 1.363512 seconds.\n",
      "Rate limit reached, sleeping for 4.932519 seconds.\n",
      "Rate limit reached, sleeping for 1.5273240000000001 seconds.\n"
     ]
    },
    {
     "name": "stderr",
     "output_type": "stream",
     "text": [
      "\r",
      "Scraping Data:  40%|████      | 63/157 [1:46:03<2:28:44, 94.94s/it] "
     ]
    },
    {
     "name": "stdout",
     "output_type": "stream",
     "text": [
      "Rate limit reached, sleeping for 42.347458 seconds.\n",
      "Rate limit reached, sleeping for 1.495496 seconds.\n",
      "Rate limit reached, sleeping for 5.125898 seconds.\n",
      "Rate limit reached, sleeping for 41.951383 seconds.\n",
      "Rate limit reached, sleeping for 1.608663 seconds.\n",
      "Rate limit reached, sleeping for 4.974125 seconds.\n",
      "Rate limit reached, sleeping for 1.3050359999999999 seconds.\n",
      "Rate limit reached, sleeping for 41.279624 seconds.\n",
      "Rate limit reached, sleeping for 1.7805149999999998 seconds.\n",
      "Rate limit reached, sleeping for 5.007614 seconds.\n"
     ]
    },
    {
     "name": "stderr",
     "output_type": "stream",
     "text": [
      "\r",
      "Scraping Data:  41%|████      | 64/157 [1:49:02<3:06:13, 120.14s/it]"
     ]
    },
    {
     "name": "stdout",
     "output_type": "stream",
     "text": [
      "Rate limit reached, sleeping for 1.8090199999999999 seconds.\n",
      "Rate limit reached, sleeping for 41.194999 seconds.\n"
     ]
    },
    {
     "name": "stderr",
     "output_type": "stream",
     "text": [
      "\r",
      "Scraping Data:  41%|████▏     | 65/157 [1:49:52<2:31:47, 98.99s/it] "
     ]
    },
    {
     "name": "stdout",
     "output_type": "stream",
     "text": [
      "Rate limit reached, sleeping for 4.975572 seconds.\n",
      "Rate limit reached, sleeping for 1.282982 seconds.\n",
      "Rate limit reached, sleeping for 42.034986 seconds.\n",
      "Rate limit reached, sleeping for 6.286768 seconds.\n",
      "Rate limit reached, sleeping for 1.062483 seconds.\n",
      "Rate limit reached, sleeping for 42.059968 seconds.\n",
      "Rate limit reached, sleeping for 5.268436 seconds.\n",
      "Rate limit reached, sleeping for 1.054662 seconds.\n",
      "Rate limit reached, sleeping for 42.042994 seconds.\n"
     ]
    },
    {
     "name": "stderr",
     "output_type": "stream",
     "text": [
      "\r",
      "Scraping Data:  42%|████▏     | 66/157 [1:52:58<3:09:41, 125.08s/it]"
     ]
    },
    {
     "name": "stdout",
     "output_type": "stream",
     "text": [
      "Rate limit reached, sleeping for 1.366885 seconds.\n",
      "Rate limit reached, sleeping for 5.024447 seconds.\n",
      "Rate limit reached, sleeping for 1.236435 seconds.\n",
      "Rate limit reached, sleeping for 41.49822 seconds.\n"
     ]
    },
    {
     "name": "stderr",
     "output_type": "stream",
     "text": [
      "\r",
      "Scraping Data:  43%|████▎     | 67/157 [1:53:59<2:39:04, 106.05s/it]"
     ]
    },
    {
     "name": "stdout",
     "output_type": "stream",
     "text": [
      "Rate limit reached, sleeping for 4.727774 seconds.\n",
      "Rate limit reached, sleeping for 1.07921 seconds.\n",
      "Rate limit reached, sleeping for 41.847055 seconds.\n",
      "Rate limit reached, sleeping for 3.236134 seconds.\n",
      "Rate limit reached, sleeping for 1.002443 seconds.\n",
      "Rate limit reached, sleeping for 42.135389 seconds.\n",
      "Rate limit reached, sleeping for 1.147494 seconds.\n"
     ]
    },
    {
     "name": "stderr",
     "output_type": "stream",
     "text": [
      "\r",
      "Scraping Data:  43%|████▎     | 68/157 [1:56:04<2:45:22, 111.49s/it]"
     ]
    },
    {
     "name": "stdout",
     "output_type": "stream",
     "text": [
      "Rate limit reached, sleeping for 5.087691 seconds.\n",
      "Rate limit reached, sleeping for 40.574071 seconds.\n",
      "Rate limit reached, sleeping for 1.003511 seconds.\n",
      "Rate limit reached, sleeping for 1.407835 seconds.\n",
      "Rate limit reached, sleeping for 4.999394000000001 seconds.\n",
      "Rate limit reached, sleeping for 2.841681 seconds.\n",
      "Rate limit reached, sleeping for 40.245333 seconds.\n"
     ]
    },
    {
     "name": "stderr",
     "output_type": "stream",
     "text": [
      "\r",
      "Scraping Data:  44%|████▍     | 69/157 [1:57:57<2:44:31, 112.18s/it]"
     ]
    },
    {
     "name": "stdout",
     "output_type": "stream",
     "text": [
      "Rate limit reached, sleeping for 2.010933 seconds.\n",
      "Rate limit reached, sleeping for 4.819163 seconds.\n",
      "Rate limit reached, sleeping for 2.637993 seconds.\n",
      "Rate limit reached, sleeping for 40.81766 seconds.\n"
     ]
    },
    {
     "name": "stderr",
     "output_type": "stream",
     "text": [
      "\r",
      "Scraping Data:  45%|████▍     | 70/157 [1:59:02<2:21:53, 97.86s/it] "
     ]
    },
    {
     "name": "stdout",
     "output_type": "stream",
     "text": [
      "Rate limit reached, sleeping for 5.692808 seconds.\n",
      "Rate limit reached, sleeping for 2.8753539999999997 seconds.\n",
      "Rate limit reached, sleeping for 40.402764 seconds.\n",
      "Rate limit reached, sleeping for 5.050559 seconds.\n",
      "Rate limit reached, sleeping for 2.490075 seconds.\n",
      "Rate limit reached, sleeping for 40.571862 seconds.\n",
      "Rate limit reached, sleeping for 1.033281 seconds.\n"
     ]
    },
    {
     "name": "stderr",
     "output_type": "stream",
     "text": [
      "\r",
      "Scraping Data:  45%|████▌     | 71/157 [2:01:08<2:32:24, 106.34s/it]"
     ]
    },
    {
     "name": "stdout",
     "output_type": "stream",
     "text": [
      "Rate limit reached, sleeping for 5.764871 seconds.\n",
      "Rate limit reached, sleeping for 1.011915 seconds.\n",
      "Rate limit reached, sleeping for 40.898277 seconds.\n",
      "Rate limit reached, sleeping for 6.167279 seconds.\n",
      "Rate limit reached, sleeping for 2.7770840000000003 seconds.\n"
     ]
    },
    {
     "name": "stderr",
     "output_type": "stream",
     "text": [
      "\r",
      "Scraping Data:  46%|████▌     | 72/157 [2:02:19<2:15:47, 95.85s/it] "
     ]
    },
    {
     "name": "stdout",
     "output_type": "stream",
     "text": [
      "Rate limit reached, sleeping for 40.981376 seconds.\n",
      "Rate limit reached, sleeping for 6.415442 seconds.\n",
      "Rate limit reached, sleeping for 2.4236459999999997 seconds.\n",
      "Rate limit reached, sleeping for 40.380288 seconds.\n",
      "Rate limit reached, sleeping for 5.53087 seconds.\n",
      "Rate limit reached, sleeping for 2.626323 seconds.\n",
      "Rate limit reached, sleeping for 40.317416 seconds.\n"
     ]
    },
    {
     "name": "stderr",
     "output_type": "stream",
     "text": [
      "\r",
      "Scraping Data:  46%|████▋     | 73/157 [2:05:05<2:43:42, 116.93s/it]"
     ]
    },
    {
     "name": "stdout",
     "output_type": "stream",
     "text": [
      "Rate limit reached, sleeping for 1.239208 seconds.\n",
      "Rate limit reached, sleeping for 6.32816 seconds.\n",
      "Rate limit reached, sleeping for 2.400896 seconds.\n",
      "Rate limit reached, sleeping for 40.426767 seconds.\n",
      "Rate limit reached, sleeping for 1.222291 seconds.\n",
      "Rate limit reached, sleeping for 5.655243 seconds.\n",
      "Rate limit reached, sleeping for 2.872007 seconds.\n",
      "Rate limit reached, sleeping for 40.420296 seconds.\n"
     ]
    },
    {
     "name": "stderr",
     "output_type": "stream",
     "text": [
      "\r",
      "Scraping Data:  47%|████▋     | 74/157 [2:07:06<2:43:23, 118.12s/it]"
     ]
    },
    {
     "name": "stdout",
     "output_type": "stream",
     "text": [
      "Rate limit reached, sleeping for 1.2613050000000001 seconds.\n",
      "Rate limit reached, sleeping for 6.179148 seconds.\n",
      "Rate limit reached, sleeping for 2.826196 seconds.\n",
      "Rate limit reached, sleeping for 39.981439 seconds.\n"
     ]
    },
    {
     "name": "stderr",
     "output_type": "stream",
     "text": [
      "\r",
      "Scraping Data:  48%|████▊     | 75/157 [2:08:10<2:18:55, 101.65s/it]"
     ]
    },
    {
     "name": "stdout",
     "output_type": "stream",
     "text": [
      "Rate limit reached, sleeping for 1.483448 seconds.\n",
      "Rate limit reached, sleeping for 5.8692 seconds.\n",
      "Rate limit reached, sleeping for 2.945062 seconds.\n",
      "Rate limit reached, sleeping for 40.51634 seconds.\n",
      "Rate limit reached, sleeping for 6.636088 seconds.\n",
      "Rate limit reached, sleeping for 2.619047 seconds.\n",
      "Rate limit reached, sleeping for 40.814068 seconds.\n",
      "Rate limit reached, sleeping for 5.92548 seconds.\n",
      "Rate limit reached, sleeping for 2.971835 seconds.\n"
     ]
    },
    {
     "name": "stderr",
     "output_type": "stream",
     "text": [
      "\r",
      "Scraping Data:  48%|████▊     | 76/157 [2:10:27<2:31:55, 112.54s/it]"
     ]
    },
    {
     "name": "stdout",
     "output_type": "stream",
     "text": [
      "Rate limit reached, sleeping for 40.86459 seconds.\n"
     ]
    },
    {
     "name": "stderr",
     "output_type": "stream",
     "text": [
      "\r",
      "Scraping Data:  49%|████▉     | 77/157 [2:11:17<2:04:41, 93.52s/it] "
     ]
    },
    {
     "name": "stdout",
     "output_type": "stream",
     "text": [
      "Rate limit reached, sleeping for 7.126444 seconds.\n",
      "Rate limit reached, sleeping for 2.484324 seconds.\n",
      "Rate limit reached, sleeping for 40.673919 seconds.\n",
      "Rate limit reached, sleeping for 6.646016 seconds.\n",
      "Rate limit reached, sleeping for 2.9462200000000003 seconds.\n",
      "Rate limit reached, sleeping for 40.703684 seconds.\n",
      "Rate limit reached, sleeping for 5.872749 seconds.\n"
     ]
    },
    {
     "name": "stderr",
     "output_type": "stream",
     "text": [
      "\r",
      "Scraping Data:  50%|████▉     | 78/157 [2:13:27<2:17:30, 104.43s/it]"
     ]
    },
    {
     "name": "stdout",
     "output_type": "stream",
     "text": [
      "Rate limit reached, sleeping for 3.203985 seconds.\n",
      "Rate limit reached, sleeping for 40.08052 seconds.\n",
      "Rate limit reached, sleeping for 6.451252 seconds.\n",
      "Rate limit reached, sleeping for 2.388161 seconds.\n"
     ]
    },
    {
     "name": "stderr",
     "output_type": "stream",
     "text": [
      "\r",
      "Scraping Data:  50%|█████     | 79/157 [2:14:33<2:00:49, 92.94s/it] "
     ]
    },
    {
     "name": "stdout",
     "output_type": "stream",
     "text": [
      "Rate limit reached, sleeping for 41.18419 seconds.\n",
      "Rate limit reached, sleeping for 4.8753519999999995 seconds.\n",
      "Rate limit reached, sleeping for 2.702118 seconds.\n",
      "Rate limit reached, sleeping for 40.44888 seconds.\n"
     ]
    },
    {
     "name": "stderr",
     "output_type": "stream",
     "text": [
      "\r",
      "Scraping Data:  51%|█████     | 80/157 [2:16:23<2:05:48, 98.03s/it]"
     ]
    },
    {
     "name": "stdout",
     "output_type": "stream",
     "text": [
      "Rate limit reached, sleeping for 6.245894 seconds.\n",
      "Rate limit reached, sleeping for 2.372468 seconds.\n",
      "Rate limit reached, sleeping for 40.110926 seconds.\n",
      "Rate limit reached, sleeping for 5.82651 seconds.\n",
      "Rate limit reached, sleeping for 2.607892 seconds.\n",
      "Rate limit reached, sleeping for 40.479941 seconds.\n"
     ]
    },
    {
     "name": "stderr",
     "output_type": "stream",
     "text": [
      "\r",
      "Scraping Data:  52%|█████▏    | 81/157 [2:18:22<2:12:27, 104.57s/it]"
     ]
    },
    {
     "name": "stdout",
     "output_type": "stream",
     "text": [
      "Rate limit reached, sleeping for 1.04001 seconds.\n",
      "Rate limit reached, sleeping for 5.461436 seconds.\n",
      "Rate limit reached, sleeping for 2.674397 seconds.\n",
      "Rate limit reached, sleeping for 40.386652 seconds.\n",
      "Rate limit reached, sleeping for 7.062569 seconds.\n",
      "Rate limit reached, sleeping for 2.335762 seconds.\n"
     ]
    },
    {
     "name": "stderr",
     "output_type": "stream",
     "text": [
      "\r",
      "Scraping Data:  52%|█████▏    | 82/157 [2:19:38<1:59:44, 95.79s/it] "
     ]
    },
    {
     "name": "stdout",
     "output_type": "stream",
     "text": [
      "Rate limit reached, sleeping for 41.191576 seconds.\n",
      "Rate limit reached, sleeping for 5.69956 seconds.\n",
      "Rate limit reached, sleeping for 2.6712689999999997 seconds.\n",
      "Rate limit reached, sleeping for 40.993263 seconds.\n",
      "Rate limit reached, sleeping for 1.018741 seconds.\n",
      "Rate limit reached, sleeping for 4.499391 seconds.\n",
      "Rate limit reached, sleeping for 2.732588 seconds.\n"
     ]
    },
    {
     "name": "stderr",
     "output_type": "stream",
     "text": [
      "\r",
      "Scraping Data:  53%|█████▎    | 83/157 [2:21:38<2:07:20, 103.25s/it]"
     ]
    },
    {
     "name": "stdout",
     "output_type": "stream",
     "text": [
      "Rate limit reached, sleeping for 40.08131 seconds.\n",
      "Rate limit reached, sleeping for 1.132916 seconds.\n",
      "Rate limit reached, sleeping for 4.7619679999999995 seconds.\n",
      "Rate limit reached, sleeping for 2.656987 seconds.\n",
      "Rate limit reached, sleeping for 40.672735 seconds.\n"
     ]
    },
    {
     "name": "stderr",
     "output_type": "stream",
     "text": [
      "\r",
      "Scraping Data:  54%|█████▎    | 84/157 [2:23:23<2:05:59, 103.55s/it]"
     ]
    },
    {
     "name": "stdout",
     "output_type": "stream",
     "text": [
      "Rate limit reached, sleeping for 1.6542919999999999 seconds.\n",
      "Rate limit reached, sleeping for 4.409476 seconds.\n",
      "Rate limit reached, sleeping for 2.7832689999999998 seconds.\n",
      "Rate limit reached, sleeping for 40.770445 seconds.\n",
      "Rate limit reached, sleeping for 1.070965 seconds.\n",
      "Rate limit reached, sleeping for 4.267835 seconds.\n",
      "Rate limit reached, sleeping for 2.599404 seconds.\n"
     ]
    },
    {
     "name": "stderr",
     "output_type": "stream",
     "text": [
      "\r",
      "Scraping Data:  54%|█████▍    | 85/157 [2:24:43<1:55:48, 96.51s/it] "
     ]
    },
    {
     "name": "stdout",
     "output_type": "stream",
     "text": [
      "Rate limit reached, sleeping for 41.255649 seconds.\n",
      "Rate limit reached, sleeping for 1.21685 seconds.\n",
      "Rate limit reached, sleeping for 4.693315 seconds.\n",
      "Rate limit reached, sleeping for 2.5791500000000003 seconds.\n",
      "Rate limit reached, sleeping for 40.818519 seconds.\n",
      "Rate limit reached, sleeping for 1.6109 seconds.\n"
     ]
    },
    {
     "name": "stderr",
     "output_type": "stream",
     "text": [
      "\r",
      "Scraping Data:  55%|█████▍    | 86/157 [2:26:34<1:59:18, 100.82s/it]"
     ]
    },
    {
     "name": "stdout",
     "output_type": "stream",
     "text": [
      "Rate limit reached, sleeping for 5.332578 seconds.\n",
      "Rate limit reached, sleeping for 2.378468 seconds.\n",
      "Rate limit reached, sleeping for 40.296462 seconds.\n",
      "Rate limit reached, sleeping for 1.687541 seconds.\n",
      "Rate limit reached, sleeping for 4.090888 seconds.\n",
      "Rate limit reached, sleeping for 2.8836310000000003 seconds.\n",
      "Rate limit reached, sleeping for 40.745038 seconds.\n",
      "Rate limit reached, sleeping for 1.685825 seconds.\n"
     ]
    },
    {
     "name": "stderr",
     "output_type": "stream",
     "text": [
      "\r",
      "Scraping Data:  55%|█████▌    | 87/157 [2:28:34<2:04:32, 106.75s/it]"
     ]
    },
    {
     "name": "stdout",
     "output_type": "stream",
     "text": [
      "Rate limit reached, sleeping for 1.072321 seconds.\n",
      "Rate limit reached, sleeping for 3.198656 seconds.\n",
      "Rate limit reached, sleeping for 2.988248 seconds.\n",
      "Rate limit reached, sleeping for 40.535553 seconds.\n",
      "Rate limit reached, sleeping for 1.848937 seconds.\n",
      "Rate limit reached, sleeping for 5.130848 seconds.\n",
      "Rate limit reached, sleeping for 2.6876889999999998 seconds.\n",
      "Rate limit reached, sleeping for 40.881396 seconds.\n",
      "Rate limit reached, sleeping for 2.0382860000000003 seconds.\n",
      "Rate limit reached, sleeping for 5.046148 seconds.\n",
      "Rate limit reached, sleeping for 2.9753879999999997 seconds.\n"
     ]
    },
    {
     "name": "stderr",
     "output_type": "stream",
     "text": [
      "\r",
      "Scraping Data:  56%|█████▌    | 88/157 [2:30:48<2:11:56, 114.74s/it]"
     ]
    },
    {
     "name": "stdout",
     "output_type": "stream",
     "text": [
      "Rate limit reached, sleeping for 39.578277 seconds.\n",
      "Rate limit reached, sleeping for 1.77786 seconds.\n",
      "Rate limit reached, sleeping for 5.015117 seconds.\n",
      "Rate limit reached, sleeping for 2.794186 seconds.\n",
      "Rate limit reached, sleeping for 40.520818 seconds.\n"
     ]
    },
    {
     "name": "stderr",
     "output_type": "stream",
     "text": [
      "\r",
      "Scraping Data:  57%|█████▋    | 89/157 [2:32:32<2:06:23, 111.53s/it]"
     ]
    },
    {
     "name": "stdout",
     "output_type": "stream",
     "text": [
      "Rate limit reached, sleeping for 1.203654 seconds.\n",
      "Rate limit reached, sleeping for 4.95934 seconds.\n",
      "Rate limit reached, sleeping for 2.9207479999999997 seconds.\n",
      "Rate limit reached, sleeping for 40.625294 seconds.\n",
      "Rate limit reached, sleeping for 1.6357110000000001 seconds.\n",
      "Rate limit reached, sleeping for 4.9391680000000004 seconds.\n",
      "Rate limit reached, sleeping for 2.8427230000000003 seconds.\n",
      "Rate limit reached, sleeping for 39.039903 seconds.\n",
      "Rate limit reached, sleeping for 5.339339 seconds.\n",
      "Rate limit reached, sleeping for 3.003114 seconds.\n"
     ]
    },
    {
     "name": "stderr",
     "output_type": "stream",
     "text": [
      "\r",
      "Scraping Data:  57%|█████▋    | 90/157 [2:34:51<2:14:03, 120.05s/it]"
     ]
    },
    {
     "name": "stdout",
     "output_type": "stream",
     "text": [
      "Rate limit reached, sleeping for 2.29888 seconds.\n",
      "Rate limit reached, sleeping for 37.416894 seconds.\n",
      "Rate limit reached, sleeping for 1.06537 seconds.\n",
      "Rate limit reached, sleeping for 5.693311 seconds.\n",
      "Rate limit reached, sleeping for 3.025731 seconds.\n",
      "Rate limit reached, sleeping for 1.717263 seconds.\n",
      "Rate limit reached, sleeping for 39.315121 seconds.\n"
     ]
    },
    {
     "name": "stderr",
     "output_type": "stream",
     "text": [
      "\r",
      "Scraping Data:  58%|█████▊    | 91/157 [2:36:36<2:06:52, 115.34s/it]"
     ]
    },
    {
     "name": "stdout",
     "output_type": "stream",
     "text": [
      "Rate limit reached, sleeping for 5.432141 seconds.\n",
      "Rate limit reached, sleeping for 2.9120790000000003 seconds.\n",
      "Rate limit reached, sleeping for 1.4093879999999999 seconds.\n",
      "Rate limit reached, sleeping for 39.107897 seconds.\n",
      "Rate limit reached, sleeping for 5.415284 seconds.\n",
      "Rate limit reached, sleeping for 2.583822 seconds.\n",
      "Rate limit reached, sleeping for 1.682934 seconds.\n",
      "Rate limit reached, sleeping for 38.756296 seconds.\n"
     ]
    },
    {
     "name": "stderr",
     "output_type": "stream",
     "text": [
      "\r",
      "Scraping Data:  59%|█████▊    | 92/157 [2:38:41<2:08:05, 118.24s/it]"
     ]
    },
    {
     "name": "stdout",
     "output_type": "stream",
     "text": [
      "Rate limit reached, sleeping for 2.106386 seconds.\n",
      "Rate limit reached, sleeping for 3.697328 seconds.\n",
      "Rate limit reached, sleeping for 2.68654 seconds.\n",
      "Rate limit reached, sleeping for 1.697518 seconds.\n",
      "Rate limit reached, sleeping for 38.842089 seconds.\n"
     ]
    },
    {
     "name": "stderr",
     "output_type": "stream",
     "text": [
      "\r",
      "Scraping Data:  59%|█████▉    | 93/157 [2:39:42<1:47:46, 101.03s/it]"
     ]
    },
    {
     "name": "stdout",
     "output_type": "stream",
     "text": [
      "Rate limit reached, sleeping for 2.232063 seconds.\n",
      "Rate limit reached, sleeping for 1.3152650000000001 seconds.\n",
      "Rate limit reached, sleeping for 3.657986 seconds.\n",
      "Rate limit reached, sleeping for 2.748964 seconds.\n",
      "Rate limit reached, sleeping for 1.718272 seconds.\n",
      "Rate limit reached, sleeping for 38.966973 seconds.\n",
      "Rate limit reached, sleeping for 2.361856 seconds.\n",
      "Rate limit reached, sleeping for 3.971584 seconds.\n",
      "Rate limit reached, sleeping for 2.561143 seconds.\n",
      "Rate limit reached, sleeping for 1.5189599999999999 seconds.\n",
      "Rate limit reached, sleeping for 39.134398 seconds.\n",
      "Rate limit reached, sleeping for 2.715976 seconds.\n",
      "Rate limit reached, sleeping for 4.317852 seconds.\n"
     ]
    },
    {
     "name": "stderr",
     "output_type": "stream",
     "text": [
      "\r",
      "Scraping Data:  60%|█████▉    | 94/157 [2:41:55<1:56:11, 110.66s/it]"
     ]
    },
    {
     "name": "stdout",
     "output_type": "stream",
     "text": [
      "Rate limit reached, sleeping for 3.126238 seconds.\n",
      "Rate limit reached, sleeping for 1.428943 seconds.\n",
      "Rate limit reached, sleeping for 39.159305 seconds.\n",
      "Rate limit reached, sleeping for 2.383189 seconds.\n",
      "Rate limit reached, sleeping for 4.304099 seconds.\n",
      "Rate limit reached, sleeping for 2.7807589999999998 seconds.\n",
      "Rate limit reached, sleeping for 1.432804 seconds.\n",
      "Rate limit reached, sleeping for 38.846219 seconds.\n"
     ]
    },
    {
     "name": "stderr",
     "output_type": "stream",
     "text": [
      "\r",
      "Scraping Data:  61%|██████    | 95/157 [2:43:44<1:53:46, 110.11s/it]"
     ]
    },
    {
     "name": "stdout",
     "output_type": "stream",
     "text": [
      "Rate limit reached, sleeping for 1.022467 seconds.\n",
      "Rate limit reached, sleeping for 2.248953 seconds.\n",
      "Rate limit reached, sleeping for 4.162141999999999 seconds.\n",
      "Rate limit reached, sleeping for 2.81783 seconds.\n",
      "Rate limit reached, sleeping for 1.872198 seconds.\n",
      "Rate limit reached, sleeping for 38.869196 seconds.\n",
      "Rate limit reached, sleeping for 2.525198 seconds.\n",
      "Rate limit reached, sleeping for 3.644929 seconds.\n",
      "Rate limit reached, sleeping for 2.67367 seconds.\n",
      "Rate limit reached, sleeping for 1.596603 seconds.\n",
      "Rate limit reached, sleeping for 39.063669 seconds.\n"
     ]
    },
    {
     "name": "stderr",
     "output_type": "stream",
     "text": [
      "\r",
      "Scraping Data:  61%|██████    | 96/157 [2:45:47<1:56:03, 114.15s/it]"
     ]
    },
    {
     "name": "stdout",
     "output_type": "stream",
     "text": [
      "Rate limit reached, sleeping for 2.61532 seconds.\n",
      "Rate limit reached, sleeping for 3.859233 seconds.\n",
      "Rate limit reached, sleeping for 2.779143 seconds.\n",
      "Rate limit reached, sleeping for 1.676246 seconds.\n",
      "Rate limit reached, sleeping for 39.112227 seconds.\n",
      "Rate limit reached, sleeping for 2.174493 seconds.\n",
      "Rate limit reached, sleeping for 3.955791 seconds.\n"
     ]
    },
    {
     "name": "stderr",
     "output_type": "stream",
     "text": [
      "\r",
      "Scraping Data:  62%|██████▏   | 97/157 [2:47:00<1:41:39, 101.66s/it]"
     ]
    },
    {
     "name": "stdout",
     "output_type": "stream",
     "text": [
      "Rate limit reached, sleeping for 3.261036 seconds.\n",
      "Rate limit reached, sleeping for 1.385571 seconds.\n",
      "Rate limit reached, sleeping for 38.329698 seconds.\n",
      "Rate limit reached, sleeping for 1.81826 seconds.\n",
      "Rate limit reached, sleeping for 4.115041 seconds.\n",
      "Rate limit reached, sleeping for 2.566739 seconds.\n",
      "Rate limit reached, sleeping for 1.67679 seconds.\n",
      "Rate limit reached, sleeping for 38.842322 seconds.\n"
     ]
    },
    {
     "name": "stderr",
     "output_type": "stream",
     "text": [
      "\r",
      "Scraping Data:  62%|██████▏   | 98/157 [2:48:51<1:42:53, 104.63s/it]"
     ]
    },
    {
     "name": "stdout",
     "output_type": "stream",
     "text": [
      "Rate limit reached, sleeping for 1.36258 seconds.\n",
      "Rate limit reached, sleeping for 1.5614780000000001 seconds.\n",
      "Rate limit reached, sleeping for 4.163549 seconds.\n",
      "Rate limit reached, sleeping for 2.655969 seconds.\n",
      "Rate limit reached, sleeping for 1.825061 seconds.\n",
      "Rate limit reached, sleeping for 38.563931 seconds.\n",
      "Rate limit reached, sleeping for 1.902783 seconds.\n",
      "Rate limit reached, sleeping for 3.602046 seconds.\n",
      "Rate limit reached, sleeping for 2.903635 seconds.\n",
      "Rate limit reached, sleeping for 1.8076370000000002 seconds.\n",
      "Rate limit reached, sleeping for 38.986665 seconds.\n"
     ]
    },
    {
     "name": "stderr",
     "output_type": "stream",
     "text": [
      "\r",
      "Scraping Data:  63%|██████▎   | 99/157 [2:50:50<1:45:08, 108.77s/it]"
     ]
    },
    {
     "name": "stdout",
     "output_type": "stream",
     "text": [
      "Rate limit reached, sleeping for 1.605004 seconds.\n",
      "Rate limit reached, sleeping for 3.989331 seconds.\n",
      "Rate limit reached, sleeping for 2.757806 seconds.\n",
      "Rate limit reached, sleeping for 1.666735 seconds.\n",
      "Rate limit reached, sleeping for 39.024201 seconds.\n",
      "Rate limit reached, sleeping for 1.435539 seconds.\n",
      "Rate limit reached, sleeping for 2.028237 seconds.\n",
      "Rate limit reached, sleeping for 3.784901 seconds.\n",
      "Rate limit reached, sleeping for 2.6864689999999998 seconds.\n",
      "Rate limit reached, sleeping for 1.8560889999999999 seconds.\n",
      "Rate limit reached, sleeping for 38.737277 seconds.\n"
     ]
    },
    {
     "name": "stderr",
     "output_type": "stream",
     "text": [
      "\r",
      "Scraping Data:  64%|██████▎   | 100/157 [2:52:53<1:47:31, 113.19s/it]"
     ]
    },
    {
     "name": "stdout",
     "output_type": "stream",
     "text": [
      "Rate limit reached, sleeping for 1.57709 seconds.\n",
      "Rate limit reached, sleeping for 1.457152 seconds.\n",
      "Rate limit reached, sleeping for 4.081708 seconds.\n",
      "Rate limit reached, sleeping for 2.802243 seconds.\n",
      "Rate limit reached, sleeping for 1.966019 seconds.\n",
      "Rate limit reached, sleeping for 39.063276 seconds.\n",
      "Rate limit reached, sleeping for 1.423492 seconds.\n",
      "Rate limit reached, sleeping for 1.416327 seconds.\n"
     ]
    },
    {
     "name": "stderr",
     "output_type": "stream",
     "text": [
      "\r",
      "Scraping Data:  64%|██████▍   | 101/157 [2:54:02<1:33:04, 99.72s/it] "
     ]
    },
    {
     "name": "stdout",
     "output_type": "stream",
     "text": [
      "Rate limit reached, sleeping for 4.59138 seconds.\n",
      "Rate limit reached, sleeping for 2.4265429999999997 seconds.\n",
      "Rate limit reached, sleeping for 1.910269 seconds.\n",
      "Rate limit reached, sleeping for 38.721553 seconds.\n",
      "Rate limit reached, sleeping for 1.160372 seconds.\n",
      "Rate limit reached, sleeping for 1.87083 seconds.\n",
      "Rate limit reached, sleeping for 3.925427 seconds.\n",
      "Rate limit reached, sleeping for 3.022742 seconds.\n",
      "Rate limit reached, sleeping for 1.729023 seconds.\n",
      "Rate limit reached, sleeping for 39.299268 seconds.\n",
      "Rate limit reached, sleeping for 1.10514 seconds.\n",
      "Rate limit reached, sleeping for 1.758124 seconds.\n",
      "Rate limit reached, sleeping for 4.033574 seconds.\n",
      "Rate limit reached, sleeping for 2.867039 seconds.\n",
      "Rate limit reached, sleeping for 1.870903 seconds.\n",
      "Rate limit reached, sleeping for 38.938151 seconds.\n"
     ]
    },
    {
     "name": "stderr",
     "output_type": "stream",
     "text": [
      "\r",
      "Scraping Data:  65%|██████▍   | 102/157 [2:56:57<1:52:14, 122.44s/it]"
     ]
    },
    {
     "name": "stdout",
     "output_type": "stream",
     "text": [
      "Rate limit reached, sleeping for 1.875028 seconds.\n",
      "Rate limit reached, sleeping for 1.392735 seconds.\n",
      "Rate limit reached, sleeping for 4.085045 seconds.\n"
     ]
    },
    {
     "name": "stderr",
     "output_type": "stream",
     "text": [
      "\r",
      "Scraping Data:  66%|██████▌   | 103/157 [2:57:10<1:20:34, 89.52s/it] "
     ]
    },
    {
     "name": "stdout",
     "output_type": "stream",
     "text": [
      "Rate limit reached, sleeping for 3.394522 seconds.\n",
      "Rate limit reached, sleeping for 1.382376 seconds.\n",
      "Rate limit reached, sleeping for 39.236176 seconds.\n",
      "Rate limit reached, sleeping for 1.798815 seconds.\n",
      "Rate limit reached, sleeping for 4.078887 seconds.\n",
      "Rate limit reached, sleeping for 2.753362 seconds.\n",
      "Rate limit reached, sleeping for 1.982104 seconds.\n",
      "Rate limit reached, sleeping for 38.918173 seconds.\n",
      "Rate limit reached, sleeping for 2.0230300000000003 seconds.\n",
      "Rate limit reached, sleeping for 3.457996 seconds.\n",
      "Rate limit reached, sleeping for 2.946637 seconds.\n",
      "Rate limit reached, sleeping for 1.043536 seconds.\n",
      "Rate limit reached, sleeping for 39.205813 seconds.\n"
     ]
    },
    {
     "name": "stderr",
     "output_type": "stream",
     "text": [
      "\r",
      "Scraping Data:  66%|██████▌   | 104/157 [2:59:59<1:40:11, 113.42s/it]"
     ]
    },
    {
     "name": "stdout",
     "output_type": "stream",
     "text": [
      "Rate limit reached, sleeping for 2.687211 seconds.\n",
      "Rate limit reached, sleeping for 3.736614 seconds.\n",
      "Rate limit reached, sleeping for 2.854939 seconds.\n",
      "Rate limit reached, sleeping for 1.516319 seconds.\n",
      "Rate limit reached, sleeping for 38.798109 seconds.\n"
     ]
    },
    {
     "name": "stderr",
     "output_type": "stream",
     "text": [
      "\r",
      "Scraping Data:  67%|██████▋   | 105/157 [3:01:05<1:26:01, 99.27s/it] "
     ]
    },
    {
     "name": "stdout",
     "output_type": "stream",
     "text": [
      "Rate limit reached, sleeping for 2.903689 seconds.\n",
      "Rate limit reached, sleeping for 3.4843 seconds.\n",
      "Rate limit reached, sleeping for 2.7968260000000003 seconds.\n",
      "Rate limit reached, sleeping for 1.451735 seconds.\n",
      "Rate limit reached, sleeping for 39.198146 seconds.\n",
      "Rate limit reached, sleeping for 2.981885 seconds.\n",
      "Rate limit reached, sleeping for 3.647921 seconds.\n",
      "Rate limit reached, sleeping for 2.504551 seconds.\n",
      "Rate limit reached, sleeping for 1.6509559999999999 seconds.\n",
      "Rate limit reached, sleeping for 38.888551 seconds.\n",
      "Rate limit reached, sleeping for 3.391824 seconds.\n",
      "Rate limit reached, sleeping for 3.820606 seconds.\n",
      "Rate limit reached, sleeping for 2.502922 seconds.\n",
      "Rate limit reached, sleeping for 1.665695 seconds.\n",
      "Rate limit reached, sleeping for 39.009821 seconds.\n"
     ]
    },
    {
     "name": "stderr",
     "output_type": "stream",
     "text": [
      "\r",
      "Scraping Data:  68%|██████▊   | 106/157 [3:04:08<1:45:39, 124.31s/it]"
     ]
    },
    {
     "name": "stdout",
     "output_type": "stream",
     "text": [
      "Rate limit reached, sleeping for 3.184842 seconds.\n",
      "Rate limit reached, sleeping for 3.86286 seconds.\n",
      "Rate limit reached, sleeping for 2.750262 seconds.\n",
      "Rate limit reached, sleeping for 1.377948 seconds.\n",
      "Rate limit reached, sleeping for 39.158164 seconds.\n"
     ]
    },
    {
     "name": "stderr",
     "output_type": "stream",
     "text": [
      "\r",
      "Scraping Data:  68%|██████▊   | 107/157 [3:05:06<1:27:03, 104.48s/it]"
     ]
    },
    {
     "name": "stdout",
     "output_type": "stream",
     "text": [
      "Rate limit reached, sleeping for 1.186458 seconds.\n"
     ]
    },
    {
     "name": "stderr",
     "output_type": "stream",
     "text": [
      "Scraping Data:  69%|██████▉   | 109/157 [3:05:09<41:30, 51.89s/it]   "
     ]
    },
    {
     "name": "stdout",
     "output_type": "stream",
     "text": [
      "Rate limit reached, sleeping for 3.06969 seconds.\n"
     ]
    },
    {
     "name": "stderr",
     "output_type": "stream",
     "text": [
      "\r",
      "Scraping Data:  70%|███████   | 110/157 [3:05:14<29:34, 37.76s/it]"
     ]
    },
    {
     "name": "stdout",
     "output_type": "stream",
     "text": [
      "Rate limit reached, sleeping for 3.470082 seconds.\n"
     ]
    },
    {
     "name": "stderr",
     "output_type": "stream",
     "text": [
      "\r",
      "Scraping Data:  71%|███████   | 111/157 [3:05:18<21:16, 27.75s/it]"
     ]
    },
    {
     "name": "stdout",
     "output_type": "stream",
     "text": [
      "Rate limit reached, sleeping for 2.9775739999999997 seconds.\n"
     ]
    },
    {
     "name": "stderr",
     "output_type": "stream",
     "text": [
      "\r",
      "Scraping Data:  71%|███████▏  | 112/157 [3:05:22<15:24, 20.55s/it]"
     ]
    },
    {
     "name": "stdout",
     "output_type": "stream",
     "text": [
      "Rate limit reached, sleeping for 2.13514 seconds.\n"
     ]
    },
    {
     "name": "stderr",
     "output_type": "stream",
     "text": [
      "\r",
      "Scraping Data:  72%|███████▏  | 113/157 [3:05:25<11:13, 15.30s/it]"
     ]
    },
    {
     "name": "stdout",
     "output_type": "stream",
     "text": [
      "Rate limit reached, sleeping for 39.331287 seconds.\n",
      "Rate limit reached, sleeping for 1.616903 seconds.\n",
      "Rate limit reached, sleeping for 4.2221519999999995 seconds.\n",
      "Rate limit reached, sleeping for 2.702285 seconds.\n",
      "Rate limit reached, sleeping for 1.487295 seconds.\n",
      "Rate limit reached, sleeping for 38.358969 seconds.\n",
      "Rate limit reached, sleeping for 1.452067 seconds.\n",
      "Rate limit reached, sleeping for 1.651535 seconds.\n",
      "Rate limit reached, sleeping for 4.1199829999999995 seconds.\n",
      "Rate limit reached, sleeping for 2.826654 seconds.\n",
      "Rate limit reached, sleeping for 1.840997 seconds.\n",
      "Rate limit reached, sleeping for 39.165853 seconds.\n",
      "Rate limit reached, sleeping for 1.393164 seconds.\n",
      "Rate limit reached, sleeping for 1.063644 seconds.\n",
      "Rate limit reached, sleeping for 3.974597 seconds.\n"
     ]
    },
    {
     "name": "stderr",
     "output_type": "stream",
     "text": [
      "\r",
      "Scraping Data:  73%|███████▎  | 114/157 [3:08:21<45:31, 63.52s/it]"
     ]
    },
    {
     "name": "stdout",
     "output_type": "stream",
     "text": [
      "Rate limit reached, sleeping for 3.188428 seconds.\n",
      "Rate limit reached, sleeping for 1.20497 seconds.\n",
      "Rate limit reached, sleeping for 39.021738 seconds.\n",
      "Rate limit reached, sleeping for 1.3840970000000001 seconds.\n",
      "Rate limit reached, sleeping for 1.136013 seconds.\n",
      "Rate limit reached, sleeping for 3.949399 seconds.\n",
      "Rate limit reached, sleeping for 2.687048 seconds.\n",
      "Rate limit reached, sleeping for 1.635616 seconds.\n",
      "Rate limit reached, sleeping for 39.054908 seconds.\n",
      "Rate limit reached, sleeping for 1.60589 seconds.\n",
      "Rate limit reached, sleeping for 4.124506 seconds.\n",
      "Rate limit reached, sleeping for 2.717028 seconds.\n",
      "Rate limit reached, sleeping for 1.526969 seconds.\n",
      "Rate limit reached, sleeping for 39.016493 seconds.\n"
     ]
    },
    {
     "name": "stderr",
     "output_type": "stream",
     "text": [
      "\r",
      "Scraping Data:  73%|███████▎  | 115/157 [3:11:10<1:06:38, 95.20s/it]"
     ]
    },
    {
     "name": "stdout",
     "output_type": "stream",
     "text": [
      "Rate limit reached, sleeping for 1.9051960000000001 seconds.\n",
      "Rate limit reached, sleeping for 4.233209 seconds.\n",
      "Rate limit reached, sleeping for 2.6392160000000002 seconds.\n"
     ]
    },
    {
     "name": "stderr",
     "output_type": "stream",
     "text": [
      "\r",
      "Scraping Data:  74%|███████▍  | 116/157 [3:11:28<49:10, 71.96s/it]  "
     ]
    },
    {
     "name": "stdout",
     "output_type": "stream",
     "text": [
      "Rate limit reached, sleeping for 2.2162550000000003 seconds.\n",
      "Rate limit reached, sleeping for 37.888211 seconds.\n",
      "Rate limit reached, sleeping for 1.440012 seconds.\n",
      "Rate limit reached, sleeping for 4.696381000000001 seconds.\n",
      "Rate limit reached, sleeping for 2.792343 seconds.\n",
      "Rate limit reached, sleeping for 1.485102 seconds.\n",
      "Rate limit reached, sleeping for 39.249746 seconds.\n",
      "Rate limit reached, sleeping for 1.03145 seconds.\n",
      "Rate limit reached, sleeping for 5.307427 seconds.\n",
      "Rate limit reached, sleeping for 2.360049 seconds.\n",
      "Rate limit reached, sleeping for 1.907943 seconds.\n",
      "Rate limit reached, sleeping for 38.969472 seconds.\n",
      "Rate limit reached, sleeping for 1.4127480000000001 seconds.\n"
     ]
    },
    {
     "name": "stderr",
     "output_type": "stream",
     "text": [
      "\r",
      "Scraping Data:  75%|███████▍  | 117/157 [3:14:18<1:07:41, 101.54s/it]"
     ]
    },
    {
     "name": "stdout",
     "output_type": "stream",
     "text": [
      "Rate limit reached, sleeping for 4.312624 seconds.\n",
      "Rate limit reached, sleeping for 2.630706 seconds.\n",
      "Rate limit reached, sleeping for 1.6303670000000001 seconds.\n",
      "Rate limit reached, sleeping for 39.043519 seconds.\n",
      "Rate limit reached, sleeping for 1.624196 seconds.\n"
     ]
    },
    {
     "name": "stderr",
     "output_type": "stream",
     "text": [
      "\r",
      "Scraping Data:  75%|███████▌  | 118/157 [3:15:19<57:55, 89.13s/it]   "
     ]
    },
    {
     "name": "stdout",
     "output_type": "stream",
     "text": [
      "Rate limit reached, sleeping for 1.387729 seconds.\n",
      "Rate limit reached, sleeping for 4.1259440000000005 seconds.\n",
      "Rate limit reached, sleeping for 2.854491 seconds.\n",
      "Rate limit reached, sleeping for 1.6967729999999999 seconds.\n",
      "Rate limit reached, sleeping for 38.647478 seconds.\n",
      "Rate limit reached, sleeping for 1.394237 seconds.\n",
      "Rate limit reached, sleeping for 4.994166 seconds.\n",
      "Rate limit reached, sleeping for 2.826857 seconds.\n",
      "Rate limit reached, sleeping for 1.685543 seconds.\n",
      "Rate limit reached, sleeping for 39.168852 seconds.\n",
      "Rate limit reached, sleeping for 1.130714 seconds.\n",
      "Rate limit reached, sleeping for 5.331408 seconds.\n",
      "Rate limit reached, sleeping for 2.59641 seconds.\n",
      "Rate limit reached, sleeping for 1.770422 seconds.\n"
     ]
    },
    {
     "name": "stderr",
     "output_type": "stream",
     "text": [
      "\r",
      "Scraping Data:  76%|███████▌  | 119/157 [3:17:37<1:05:45, 103.83s/it]"
     ]
    },
    {
     "name": "stdout",
     "output_type": "stream",
     "text": [
      "Rate limit reached, sleeping for 39.714741 seconds.\n",
      "Rate limit reached, sleeping for 5.225846 seconds.\n",
      "Rate limit reached, sleeping for 2.5504119999999997 seconds.\n",
      "Rate limit reached, sleeping for 1.921127 seconds.\n",
      "Rate limit reached, sleeping for 39.168092 seconds.\n",
      "Rate limit reached, sleeping for 1.417819 seconds.\n"
     ]
    },
    {
     "name": "stderr",
     "output_type": "stream",
     "text": [
      "\r",
      "Scraping Data:  76%|███████▋  | 120/157 [3:19:23<1:04:29, 104.58s/it]"
     ]
    },
    {
     "name": "stdout",
     "output_type": "stream",
     "text": [
      "Rate limit reached, sleeping for 4.732508 seconds.\n",
      "Rate limit reached, sleeping for 2.591774 seconds.\n",
      "Rate limit reached, sleeping for 1.943718 seconds.\n",
      "Rate limit reached, sleeping for 39.131265 seconds.\n",
      "Rate limit reached, sleeping for 5.011993 seconds.\n",
      "Rate limit reached, sleeping for 1.550206 seconds.\n",
      "Rate limit reached, sleeping for 1.406202 seconds.\n",
      "Rate limit reached, sleeping for 39.356225 seconds.\n"
     ]
    },
    {
     "name": "stderr",
     "output_type": "stream",
     "text": [
      "\r",
      "Scraping Data:  77%|███████▋  | 121/157 [3:21:25<1:05:47, 109.66s/it]"
     ]
    },
    {
     "name": "stdout",
     "output_type": "stream",
     "text": [
      "Rate limit reached, sleeping for 4.126327 seconds.\n",
      "Rate limit reached, sleeping for 2.8286230000000003 seconds.\n",
      "Rate limit reached, sleeping for 1.7361 seconds.\n",
      "Rate limit reached, sleeping for 38.859129 seconds.\n",
      "Rate limit reached, sleeping for 1.821427 seconds.\n",
      "Rate limit reached, sleeping for 4.530866 seconds.\n",
      "Rate limit reached, sleeping for 2.683643 seconds.\n",
      "Rate limit reached, sleeping for 1.597037 seconds.\n",
      "Rate limit reached, sleeping for 39.189282 seconds.\n",
      "Rate limit reached, sleeping for 2.1587750000000003 seconds.\n"
     ]
    },
    {
     "name": "stderr",
     "output_type": "stream",
     "text": [
      "\r",
      "Scraping Data:  78%|███████▊  | 122/157 [3:23:27<1:06:15, 113.58s/it]"
     ]
    },
    {
     "name": "stdout",
     "output_type": "stream",
     "text": [
      "Rate limit reached, sleeping for 5.642009 seconds.\n",
      "Rate limit reached, sleeping for 2.716568 seconds.\n",
      "Rate limit reached, sleeping for 1.397073 seconds.\n",
      "Rate limit reached, sleeping for 39.10266 seconds.\n",
      "Rate limit reached, sleeping for 2.0224390000000003 seconds.\n"
     ]
    },
    {
     "name": "stderr",
     "output_type": "stream",
     "text": [
      "\r",
      "Scraping Data:  78%|███████▊  | 123/157 [3:24:30<55:46, 98.42s/it]   "
     ]
    },
    {
     "name": "stdout",
     "output_type": "stream",
     "text": [
      "Rate limit reached, sleeping for 6.104935 seconds.\n",
      "Rate limit reached, sleeping for 1.955824 seconds.\n",
      "Rate limit reached, sleeping for 1.6535069999999998 seconds.\n",
      "Rate limit reached, sleeping for 39.029148 seconds.\n",
      "Rate limit reached, sleeping for 1.774729 seconds.\n",
      "Rate limit reached, sleeping for 5.305295 seconds.\n",
      "Rate limit reached, sleeping for 2.8579369999999997 seconds.\n",
      "Rate limit reached, sleeping for 1.058351 seconds.\n",
      "Rate limit reached, sleeping for 39.300506 seconds.\n",
      "Rate limit reached, sleeping for 2.1078989999999997 seconds.\n"
     ]
    },
    {
     "name": "stderr",
     "output_type": "stream",
     "text": [
      "\r",
      "Scraping Data:  79%|███████▉  | 124/157 [3:26:32<57:55, 105.32s/it]"
     ]
    },
    {
     "name": "stdout",
     "output_type": "stream",
     "text": [
      "Rate limit reached, sleeping for 5.257268 seconds.\n",
      "Rate limit reached, sleeping for 2.962692 seconds.\n",
      "Rate limit reached, sleeping for 1.10406 seconds.\n",
      "Rate limit reached, sleeping for 39.040682 seconds.\n",
      "Rate limit reached, sleeping for 2.029932 seconds.\n",
      "Rate limit reached, sleeping for 4.858223000000001 seconds.\n",
      "Rate limit reached, sleeping for 2.8281799999999997 seconds.\n",
      "Rate limit reached, sleeping for 1.739947 seconds.\n"
     ]
    },
    {
     "name": "stderr",
     "output_type": "stream",
     "text": [
      "\r",
      "Scraping Data:  80%|███████▉  | 125/157 [3:27:47<51:20, 96.27s/it] "
     ]
    },
    {
     "name": "stdout",
     "output_type": "stream",
     "text": [
      "Rate limit reached, sleeping for 39.602923 seconds.\n",
      "Rate limit reached, sleeping for 1.5647579999999999 seconds.\n",
      "Rate limit reached, sleeping for 5.228685 seconds.\n",
      "Rate limit reached, sleeping for 2.786518 seconds.\n",
      "Rate limit reached, sleeping for 39.380218 seconds.\n",
      "Rate limit reached, sleeping for 1.520111 seconds.\n",
      "Rate limit reached, sleeping for 5.093052 seconds.\n",
      "Rate limit reached, sleeping for 3.045681 seconds.\n",
      "Rate limit reached, sleeping for 40.995477 seconds.\n"
     ]
    },
    {
     "name": "stderr",
     "output_type": "stream",
     "text": [
      "\r",
      "Scraping Data:  80%|████████  | 126/157 [3:30:29<1:00:00, 116.13s/it]"
     ]
    },
    {
     "name": "stdout",
     "output_type": "stream",
     "text": [
      "Rate limit reached, sleeping for 3.28172 seconds.\n",
      "Rate limit reached, sleeping for 2.978145 seconds.\n",
      "Rate limit reached, sleeping for 40.316142 seconds.\n",
      "Rate limit reached, sleeping for 3.16828 seconds.\n",
      "Rate limit reached, sleeping for 3.263259 seconds.\n",
      "Rate limit reached, sleeping for 2.540536 seconds.\n"
     ]
    },
    {
     "name": "stderr",
     "output_type": "stream",
     "text": [
      "\r",
      "Scraping Data:  81%|████████  | 127/157 [3:31:50<52:45, 105.53s/it]  "
     ]
    },
    {
     "name": "stdout",
     "output_type": "stream",
     "text": [
      "Rate limit reached, sleeping for 40.377266 seconds.\n",
      "Rate limit reached, sleeping for 1.933561 seconds.\n",
      "Rate limit reached, sleeping for 2.6855089999999997 seconds.\n",
      "Rate limit reached, sleeping for 2.748016 seconds.\n",
      "Rate limit reached, sleeping for 40.638743 seconds.\n"
     ]
    },
    {
     "name": "stderr",
     "output_type": "stream",
     "text": [
      "\r",
      "Scraping Data:  82%|████████▏ | 128/157 [3:33:43<52:07, 107.83s/it]"
     ]
    },
    {
     "name": "stdout",
     "output_type": "stream",
     "text": [
      "Rate limit reached, sleeping for 2.1344279999999998 seconds.\n",
      "Rate limit reached, sleeping for 1.9558680000000002 seconds.\n",
      "Rate limit reached, sleeping for 40.428976 seconds.\n",
      "Rate limit reached, sleeping for 1.110146 seconds.\n",
      "Rate limit reached, sleeping for 1.8953250000000001 seconds.\n",
      "Rate limit reached, sleeping for 1.473932 seconds.\n",
      "Rate limit reached, sleeping for 1.913688 seconds.\n",
      "Rate limit reached, sleeping for 2.481203 seconds.\n",
      "Rate limit reached, sleeping for 40.302978 seconds.\n",
      "Rate limit reached, sleeping for 2.911117 seconds.\n",
      "Rate limit reached, sleeping for 1.15364 seconds.\n"
     ]
    },
    {
     "name": "stderr",
     "output_type": "stream",
     "text": [
      "\r",
      "Scraping Data:  82%|████████▏ | 129/157 [3:35:43<51:55, 111.27s/it]"
     ]
    },
    {
     "name": "stdout",
     "output_type": "stream",
     "text": [
      "Rate limit reached, sleeping for 1.077781 seconds.\n",
      "Rate limit reached, sleeping for 2.35467 seconds.\n",
      "Rate limit reached, sleeping for 1.715611 seconds.\n",
      "Rate limit reached, sleeping for 40.767548 seconds.\n",
      "Rate limit reached, sleeping for 2.680653 seconds.\n",
      "Rate limit reached, sleeping for 1.184503 seconds.\n",
      "Rate limit reached, sleeping for 3.213192 seconds.\n",
      "Rate limit reached, sleeping for 2.511933 seconds.\n",
      "Rate limit reached, sleeping for 40.136832 seconds.\n"
     ]
    },
    {
     "name": "stderr",
     "output_type": "stream",
     "text": [
      "\r",
      "Scraping Data:  83%|████████▎ | 130/157 [3:37:37<50:31, 112.28s/it]"
     ]
    },
    {
     "name": "stdout",
     "output_type": "stream",
     "text": [
      "Rate limit reached, sleeping for 3.449413 seconds.\n",
      "Rate limit reached, sleeping for 4.134315 seconds.\n",
      "Rate limit reached, sleeping for 2.7239139999999997 seconds.\n",
      "Rate limit reached, sleeping for 40.920532 seconds.\n",
      "Rate limit reached, sleeping for 2.948849 seconds.\n",
      "Rate limit reached, sleeping for 4.2020599999999995 seconds.\n",
      "Rate limit reached, sleeping for 2.8574539999999997 seconds.\n",
      "Rate limit reached, sleeping for 41.04028 seconds.\n",
      "Rate limit reached, sleeping for 2.6430819999999997 seconds.\n"
     ]
    },
    {
     "name": "stderr",
     "output_type": "stream",
     "text": [
      "\r",
      "Scraping Data:  83%|████████▎ | 131/157 [3:39:43<50:26, 116.41s/it]"
     ]
    },
    {
     "name": "stdout",
     "output_type": "stream",
     "text": [
      "Rate limit reached, sleeping for 4.307508 seconds.\n",
      "Rate limit reached, sleeping for 2.78808 seconds.\n",
      "Rate limit reached, sleeping for 40.820167 seconds.\n",
      "Rate limit reached, sleeping for 2.754119 seconds.\n",
      "Rate limit reached, sleeping for 4.1294260000000005 seconds.\n"
     ]
    },
    {
     "name": "stderr",
     "output_type": "stream",
     "text": [
      "\r",
      "Scraping Data:  84%|████████▍ | 132/157 [3:40:53<42:41, 102.47s/it]"
     ]
    },
    {
     "name": "stdout",
     "output_type": "stream",
     "text": [
      "Rate limit reached, sleeping for 3.180007 seconds.\n",
      "Rate limit reached, sleeping for 39.515498 seconds.\n",
      "Rate limit reached, sleeping for 2.2539119999999997 seconds.\n",
      "Rate limit reached, sleeping for 3.207806 seconds.\n",
      "Rate limit reached, sleeping for 2.618295 seconds.\n",
      "Rate limit reached, sleeping for 1.352898 seconds.\n",
      "Rate limit reached, sleeping for 39.359432 seconds.\n",
      "Rate limit reached, sleeping for 2.825951 seconds.\n",
      "Rate limit reached, sleeping for 1.091193 seconds.\n"
     ]
    },
    {
     "name": "stderr",
     "output_type": "stream",
     "text": [
      "\r",
      "Scraping Data:  85%|████████▍ | 133/157 [3:42:49<42:31, 106.33s/it]"
     ]
    },
    {
     "name": "stdout",
     "output_type": "stream",
     "text": [
      "Rate limit reached, sleeping for 3.362718 seconds.\n",
      "Rate limit reached, sleeping for 2.59769 seconds.\n",
      "Rate limit reached, sleeping for 1.396424 seconds.\n",
      "Rate limit reached, sleeping for 39.300728 seconds.\n",
      "Rate limit reached, sleeping for 2.3729709999999997 seconds.\n",
      "Rate limit reached, sleeping for 1.1838359999999999 seconds.\n",
      "Rate limit reached, sleeping for 2.815305 seconds.\n",
      "Rate limit reached, sleeping for 2.8451820000000003 seconds.\n",
      "Rate limit reached, sleeping for 1.062832 seconds.\n",
      "Rate limit reached, sleeping for 39.609817 seconds.\n",
      "Rate limit reached, sleeping for 2.7526479999999998 seconds.\n",
      "Rate limit reached, sleeping for 1.206937 seconds.\n"
     ]
    },
    {
     "name": "stderr",
     "output_type": "stream",
     "text": [
      "\r",
      "Scraping Data:  85%|████████▌ | 134/157 [3:44:52<42:43, 111.46s/it]"
     ]
    },
    {
     "name": "stdout",
     "output_type": "stream",
     "text": [
      "Rate limit reached, sleeping for 1.4015659999999999 seconds.\n",
      "Rate limit reached, sleeping for 2.853143 seconds.\n",
      "Rate limit reached, sleeping for 40.614758 seconds.\n",
      "Rate limit reached, sleeping for 2.298484 seconds.\n",
      "Rate limit reached, sleeping for 1.3175569999999999 seconds.\n",
      "Rate limit reached, sleeping for 2.7717169999999998 seconds.\n",
      "Rate limit reached, sleeping for 2.680871 seconds.\n"
     ]
    },
    {
     "name": "stderr",
     "output_type": "stream",
     "text": [
      "\r",
      "Scraping Data:  86%|████████▌ | 135/157 [3:46:03<36:26, 99.40s/it] "
     ]
    },
    {
     "name": "stdout",
     "output_type": "stream",
     "text": [
      "Rate limit reached, sleeping for 41.351735 seconds.\n",
      "Rate limit reached, sleeping for 2.367715 seconds.\n",
      "Rate limit reached, sleeping for 1.5273029999999999 seconds.\n",
      "Rate limit reached, sleeping for 3.025619 seconds.\n",
      "Rate limit reached, sleeping for 2.8479289999999997 seconds.\n",
      "Rate limit reached, sleeping for 41.015259 seconds.\n",
      "Rate limit reached, sleeping for 2.189286 seconds.\n"
     ]
    },
    {
     "name": "stderr",
     "output_type": "stream",
     "text": [
      "\r",
      "Scraping Data:  87%|████████▋ | 136/157 [3:47:53<35:49, 102.34s/it]"
     ]
    },
    {
     "name": "stdout",
     "output_type": "stream",
     "text": [
      "Rate limit reached, sleeping for 1.909412 seconds.\n",
      "Rate limit reached, sleeping for 2.6596599999999997 seconds.\n",
      "Rate limit reached, sleeping for 2.7306559999999998 seconds.\n",
      "Rate limit reached, sleeping for 40.309345 seconds.\n",
      "Rate limit reached, sleeping for 2.7537000000000003 seconds.\n",
      "Rate limit reached, sleeping for 1.391133 seconds.\n",
      "Rate limit reached, sleeping for 2.4213199999999997 seconds.\n",
      "Rate limit reached, sleeping for 3.005536 seconds.\n",
      "Rate limit reached, sleeping for 41.11457 seconds.\n",
      "Rate limit reached, sleeping for 2.75624 seconds.\n"
     ]
    },
    {
     "name": "stderr",
     "output_type": "stream",
     "text": [
      "\r",
      "Scraping Data:  87%|████████▋ | 137/157 [3:49:56<36:12, 108.65s/it]"
     ]
    },
    {
     "name": "stdout",
     "output_type": "stream",
     "text": [
      "Rate limit reached, sleeping for 2.0481499999999997 seconds.\n",
      "Rate limit reached, sleeping for 2.10988 seconds.\n",
      "Rate limit reached, sleeping for 2.958549 seconds.\n",
      "Rate limit reached, sleeping for 40.976944 seconds.\n",
      "Rate limit reached, sleeping for 2.6857819999999997 seconds.\n",
      "Rate limit reached, sleeping for 1.456167 seconds.\n",
      "Rate limit reached, sleeping for 2.5390189999999997 seconds.\n",
      "Rate limit reached, sleeping for 2.73361 seconds.\n",
      "Rate limit reached, sleeping for 40.922739 seconds.\n"
     ]
    },
    {
     "name": "stderr",
     "output_type": "stream",
     "text": [
      "\r",
      "Scraping Data:  88%|████████▊ | 138/157 [3:51:51<35:02, 110.68s/it]"
     ]
    },
    {
     "name": "stdout",
     "output_type": "stream",
     "text": [
      "Rate limit reached, sleeping for 3.574556 seconds.\n",
      "Rate limit reached, sleeping for 2.899145 seconds.\n",
      "Rate limit reached, sleeping for 2.6939 seconds.\n",
      "Rate limit reached, sleeping for 41.039654 seconds.\n",
      "Rate limit reached, sleeping for 2.416882 seconds.\n",
      "Rate limit reached, sleeping for 1.287514 seconds.\n",
      "Rate limit reached, sleeping for 2.724417 seconds.\n",
      "Rate limit reached, sleeping for 2.837812 seconds.\n",
      "Rate limit reached, sleeping for 40.654583 seconds.\n"
     ]
    },
    {
     "name": "stderr",
     "output_type": "stream",
     "text": [
      "\r",
      "Scraping Data:  89%|████████▊ | 139/157 [3:53:52<34:08, 113.81s/it]"
     ]
    },
    {
     "name": "stdout",
     "output_type": "stream",
     "text": [
      "Rate limit reached, sleeping for 2.876261 seconds.\n",
      "Rate limit reached, sleeping for 1.133372 seconds.\n",
      "Rate limit reached, sleeping for 2.464054 seconds.\n",
      "Rate limit reached, sleeping for 2.8725959999999997 seconds.\n",
      "Rate limit reached, sleeping for 40.978515 seconds.\n",
      "Rate limit reached, sleeping for 3.022854 seconds.\n"
     ]
    },
    {
     "name": "stderr",
     "output_type": "stream",
     "text": [
      "\r",
      "Scraping Data:  89%|████████▉ | 140/157 [3:54:59<28:12, 99.56s/it] "
     ]
    },
    {
     "name": "stdout",
     "output_type": "stream",
     "text": [
      "Rate limit reached, sleeping for 1.7190189999999999 seconds.\n",
      "Rate limit reached, sleeping for 1.931159 seconds.\n",
      "Rate limit reached, sleeping for 2.913423 seconds.\n",
      "Rate limit reached, sleeping for 40.699959 seconds.\n",
      "Rate limit reached, sleeping for 2.999063 seconds.\n",
      "Rate limit reached, sleeping for 1.1837469999999999 seconds.\n",
      "Rate limit reached, sleeping for 2.827036 seconds.\n",
      "Rate limit reached, sleeping for 39.772843 seconds.\n"
     ]
    },
    {
     "name": "stderr",
     "output_type": "stream",
     "text": [
      "\r",
      "Scraping Data:  90%|████████▉ | 141/157 [3:56:56<27:59, 104.98s/it]"
     ]
    },
    {
     "name": "stdout",
     "output_type": "stream",
     "text": [
      "Rate limit reached, sleeping for 3.553342 seconds.\n",
      "Rate limit reached, sleeping for 1.823579 seconds.\n",
      "Rate limit reached, sleeping for 40.826237 seconds.\n",
      "Rate limit reached, sleeping for 2.689297 seconds.\n",
      "Rate limit reached, sleeping for 4.267378 seconds.\n",
      "Rate limit reached, sleeping for 2.524197 seconds.\n"
     ]
    },
    {
     "name": "stderr",
     "output_type": "stream",
     "text": [
      "\r",
      "Scraping Data:  90%|█████████ | 142/157 [3:58:14<24:12, 96.84s/it] "
     ]
    },
    {
     "name": "stdout",
     "output_type": "stream",
     "text": [
      "Rate limit reached, sleeping for 40.9131 seconds.\n",
      "Rate limit reached, sleeping for 2.850793 seconds.\n",
      "Rate limit reached, sleeping for 4.273515 seconds.\n",
      "Rate limit reached, sleeping for 2.93705 seconds.\n",
      "Rate limit reached, sleeping for 40.487359 seconds.\n",
      "Rate limit reached, sleeping for 3.002331 seconds.\n",
      "Rate limit reached, sleeping for 4.041491000000001 seconds.\n"
     ]
    },
    {
     "name": "stderr",
     "output_type": "stream",
     "text": [
      "\r",
      "Scraping Data:  91%|█████████ | 143/157 [4:00:12<24:03, 103.12s/it]"
     ]
    },
    {
     "name": "stdout",
     "output_type": "stream",
     "text": [
      "Rate limit reached, sleeping for 3.639933 seconds.\n",
      "Rate limit reached, sleeping for 39.680144 seconds.\n",
      "Rate limit reached, sleeping for 3.152849 seconds.\n",
      "Rate limit reached, sleeping for 4.1595189999999995 seconds.\n",
      "Rate limit reached, sleeping for 2.913588 seconds.\n",
      "Rate limit reached, sleeping for 1.209037 seconds.\n",
      "Rate limit reached, sleeping for 39.37538 seconds.\n",
      "Rate limit reached, sleeping for 3.060996 seconds.\n",
      "Rate limit reached, sleeping for 4.4208929999999995 seconds.\n"
     ]
    },
    {
     "name": "stderr",
     "output_type": "stream",
     "text": [
      "\r",
      "Scraping Data:  92%|█████████▏| 144/157 [4:02:13<23:32, 108.62s/it]"
     ]
    },
    {
     "name": "stdout",
     "output_type": "stream",
     "text": [
      "Rate limit reached, sleeping for 2.427641 seconds.\n",
      "Rate limit reached, sleeping for 1.397969 seconds.\n",
      "Rate limit reached, sleeping for 39.747771 seconds.\n",
      "Rate limit reached, sleeping for 2.154706 seconds.\n",
      "Rate limit reached, sleeping for 4.339963 seconds.\n",
      "Rate limit reached, sleeping for 1.810731 seconds.\n",
      "Rate limit reached, sleeping for 1.076288 seconds.\n",
      "Rate limit reached, sleeping for 39.669237 seconds.\n"
     ]
    },
    {
     "name": "stderr",
     "output_type": "stream",
     "text": [
      "\r",
      "Scraping Data:  92%|█████████▏| 145/157 [4:04:02<21:44, 108.70s/it]"
     ]
    },
    {
     "name": "stdout",
     "output_type": "stream",
     "text": [
      "Rate limit reached, sleeping for 2.669924 seconds.\n",
      "Rate limit reached, sleeping for 4.367463 seconds.\n",
      "Rate limit reached, sleeping for 2.48492 seconds.\n",
      "Rate limit reached, sleeping for 40.345987 seconds.\n",
      "Rate limit reached, sleeping for 2.5833120000000003 seconds.\n",
      "Rate limit reached, sleeping for 4.0947189999999996 seconds.\n",
      "Rate limit reached, sleeping for 2.355663 seconds.\n",
      "Rate limit reached, sleeping for 40.605854 seconds.\n",
      "Rate limit reached, sleeping for 2.324363 seconds.\n",
      "Rate limit reached, sleeping for 4.196977 seconds.\n"
     ]
    },
    {
     "name": "stderr",
     "output_type": "stream",
     "text": [
      "\r",
      "Scraping Data:  93%|█████████▎| 146/157 [4:06:18<21:23, 116.66s/it]"
     ]
    },
    {
     "name": "stdout",
     "output_type": "stream",
     "text": [
      "Rate limit reached, sleeping for 2.51113 seconds.\n",
      "Rate limit reached, sleeping for 39.747762 seconds.\n",
      "Rate limit reached, sleeping for 2.479835 seconds.\n",
      "Rate limit reached, sleeping for 3.902054 seconds.\n"
     ]
    },
    {
     "name": "stderr",
     "output_type": "stream",
     "text": [
      "\r",
      "Scraping Data:  94%|█████████▎| 147/157 [4:07:19<16:40, 100.06s/it]"
     ]
    },
    {
     "name": "stdout",
     "output_type": "stream",
     "text": [
      "Rate limit reached, sleeping for 2.075555 seconds.\n",
      "Rate limit reached, sleeping for 40.629633 seconds.\n",
      "Rate limit reached, sleeping for 2.053658 seconds.\n",
      "Rate limit reached, sleeping for 4.215194 seconds.\n",
      "Rate limit reached, sleeping for 2.595618 seconds.\n",
      "Rate limit reached, sleeping for 40.675411 seconds.\n",
      "Rate limit reached, sleeping for 2.306708 seconds.\n",
      "Rate limit reached, sleeping for 3.967745 seconds.\n",
      "Rate limit reached, sleeping for 2.463458 seconds.\n",
      "Rate limit reached, sleeping for 40.410561 seconds.\n",
      "Rate limit reached, sleeping for 2.7414389999999997 seconds.\n",
      "Rate limit reached, sleeping for 4.418281 seconds.\n"
     ]
    },
    {
     "name": "stderr",
     "output_type": "stream",
     "text": [
      "\r",
      "Scraping Data:  94%|█████████▍| 148/157 [4:10:19<18:36, 124.08s/it]"
     ]
    },
    {
     "name": "stdout",
     "output_type": "stream",
     "text": [
      "Rate limit reached, sleeping for 3.071071 seconds.\n"
     ]
    },
    {
     "name": "stderr",
     "output_type": "stream",
     "text": [
      "\r",
      "Scraping Data:  95%|█████████▍| 149/157 [4:10:27<11:54, 89.30s/it] "
     ]
    },
    {
     "name": "stdout",
     "output_type": "stream",
     "text": [
      "Rate limit reached, sleeping for 41.712613 seconds.\n",
      "Rate limit reached, sleeping for 2.4867600000000003 seconds.\n",
      "Rate limit reached, sleeping for 3.922062 seconds.\n",
      "Rate limit reached, sleeping for 2.951123 seconds.\n",
      "Rate limit reached, sleeping for 41.008348 seconds.\n",
      "Rate limit reached, sleeping for 2.6832089999999997 seconds.\n",
      "Rate limit reached, sleeping for 4.397247999999999 seconds.\n",
      "Rate limit reached, sleeping for 2.320694 seconds.\n",
      "Rate limit reached, sleeping for 41.025583 seconds.\n",
      "Rate limit reached, sleeping for 1.928366 seconds.\n",
      "Rate limit reached, sleeping for 4.157165 seconds.\n"
     ]
    },
    {
     "name": "stderr",
     "output_type": "stream",
     "text": [
      "\r",
      "Scraping Data:  96%|█████████▌| 150/157 [4:13:26<13:32, 116.01s/it]"
     ]
    },
    {
     "name": "stdout",
     "output_type": "stream",
     "text": [
      "Rate limit reached, sleeping for 3.208074 seconds.\n",
      "Rate limit reached, sleeping for 40.398478 seconds.\n",
      "Rate limit reached, sleeping for 2.144051 seconds.\n",
      "Rate limit reached, sleeping for 4.17171 seconds.\n"
     ]
    },
    {
     "name": "stderr",
     "output_type": "stream",
     "text": [
      "\r",
      "Scraping Data:  96%|█████████▌| 151/157 [4:14:24<09:52, 98.75s/it] "
     ]
    },
    {
     "name": "stdout",
     "output_type": "stream",
     "text": [
      "Rate limit reached, sleeping for 2.185574 seconds.\n",
      "Rate limit reached, sleeping for 41.075398 seconds.\n",
      "Rate limit reached, sleeping for 2.5897490000000003 seconds.\n",
      "Rate limit reached, sleeping for 4.0751 seconds.\n",
      "Rate limit reached, sleeping for 2.776903 seconds.\n",
      "Rate limit reached, sleeping for 40.901468 seconds.\n",
      "Rate limit reached, sleeping for 2.268339 seconds.\n",
      "Rate limit reached, sleeping for 4.149902 seconds.\n",
      "Rate limit reached, sleeping for 2.82756 seconds.\n"
     ]
    },
    {
     "name": "stderr",
     "output_type": "stream",
     "text": [
      "\r",
      "Scraping Data:  97%|█████████▋| 152/157 [4:16:32<08:58, 107.63s/it]"
     ]
    },
    {
     "name": "stdout",
     "output_type": "stream",
     "text": [
      "Rate limit reached, sleeping for 40.206143 seconds.\n",
      "Rate limit reached, sleeping for 2.6615130000000002 seconds.\n",
      "Rate limit reached, sleeping for 4.308612999999999 seconds.\n",
      "Rate limit reached, sleeping for 1.568462 seconds.\n",
      "Rate limit reached, sleeping for 41.066081 seconds.\n",
      "Rate limit reached, sleeping for 2.459239 seconds.\n"
     ]
    },
    {
     "name": "stderr",
     "output_type": "stream",
     "text": [
      "\r",
      "Scraping Data:  97%|█████████▋| 153/157 [4:18:22<07:12, 108.13s/it]"
     ]
    },
    {
     "name": "stdout",
     "output_type": "stream",
     "text": [
      "Rate limit reached, sleeping for 4.853453 seconds.\n",
      "Rate limit reached, sleeping for 1.598691 seconds.\n",
      "Rate limit reached, sleeping for 40.888077 seconds.\n",
      "Rate limit reached, sleeping for 2.981621 seconds.\n",
      "Rate limit reached, sleeping for 4.2269950000000005 seconds.\n",
      "Rate limit reached, sleeping for 2.3982419999999998 seconds.\n",
      "Rate limit reached, sleeping for 40.678297 seconds.\n",
      "Rate limit reached, sleeping for 2.951315 seconds.\n",
      "Rate limit reached, sleeping for 4.1263380000000005 seconds.\n"
     ]
    },
    {
     "name": "stderr",
     "output_type": "stream",
     "text": [
      "\r",
      "Scraping Data:  98%|█████████▊| 154/157 [4:20:29<05:41, 113.96s/it]"
     ]
    },
    {
     "name": "stdout",
     "output_type": "stream",
     "text": [
      "Rate limit reached, sleeping for 2.446293 seconds.\n",
      "Rate limit reached, sleeping for 40.190466 seconds.\n",
      "Rate limit reached, sleeping for 3.078606 seconds.\n",
      "Rate limit reached, sleeping for 4.2943750000000005 seconds.\n",
      "Rate limit reached, sleeping for 2.476016 seconds.\n",
      "Rate limit reached, sleeping for 40.829382 seconds.\n",
      "Rate limit reached, sleeping for 2.895568 seconds.\n",
      "Rate limit reached, sleeping for 4.085203 seconds.\n"
     ]
    },
    {
     "name": "stderr",
     "output_type": "stream",
     "text": [
      "\r",
      "Scraping Data:  99%|█████████▊| 155/157 [4:22:32<03:53, 116.66s/it]"
     ]
    },
    {
     "name": "stdout",
     "output_type": "stream",
     "text": [
      "Rate limit reached, sleeping for 2.847435 seconds.\n",
      "Rate limit reached, sleeping for 40.758911 seconds.\n",
      "Rate limit reached, sleeping for 2.925939 seconds.\n",
      "Rate limit reached, sleeping for 4.278781 seconds.\n"
     ]
    },
    {
     "name": "stderr",
     "output_type": "stream",
     "text": [
      "\r",
      "Scraping Data:  99%|█████████▉| 156/157 [4:23:36<01:40, 100.93s/it]"
     ]
    },
    {
     "name": "stdout",
     "output_type": "stream",
     "text": [
      "Rate limit reached, sleeping for 2.403764 seconds.\n",
      "Rate limit reached, sleeping for 40.484015 seconds.\n",
      "Rate limit reached, sleeping for 3.078972 seconds.\n",
      "Rate limit reached, sleeping for 4.27807 seconds.\n",
      "Rate limit reached, sleeping for 2.011189 seconds.\n",
      "Rate limit reached, sleeping for 40.805505 seconds.\n",
      "Rate limit reached, sleeping for 2.838026 seconds.\n",
      "Rate limit reached, sleeping for 4.277112 seconds.\n",
      "Rate limit reached, sleeping for 2.939896 seconds.\n",
      "Rate limit reached, sleeping for 41.058994 seconds.\n",
      "Rate limit reached, sleeping for 2.814693 seconds.\n",
      "Rate limit reached, sleeping for 3.91784 seconds.\n"
     ]
    },
    {
     "name": "stderr",
     "output_type": "stream",
     "text": [
      "Scraping Data: 100%|██████████| 157/157 [4:26:36<00:00, 101.89s/it]"
     ]
    },
    {
     "name": "stdout",
     "output_type": "stream",
     "text": [
      "Dataset with General Game Info and Basic Box Score Stats:\n",
      "            date        team1 team1_score         team2 team2_score team1_FGA  \\\n",
      "0     2023-11-01   Washington         121       Atlanta         130       101   \n",
      "1     2023-11-01      Indiana         104        Boston         155       101   \n",
      "2     2023-11-01      Chicago         105        Dallas         114        89   \n",
      "3     2023-11-01     Portland         110       Detroit         101        81   \n",
      "4     2023-11-01   Sacramento         101  Golden State         102        88   \n",
      "...          ...          ...         ...           ...         ...       ...   \n",
      "1098  2024-04-05      Detroit          90       Memphis         108        79   \n",
      "1099  2024-04-05      Toronto         117     Milwaukee         111        79   \n",
      "1100  2024-04-05  San Antonio         111   New Orleans         109        83   \n",
      "1101  2024-04-05    Minnesota          87       Phoenix          97        85   \n",
      "1102  2024-04-05     Portland         108    Washington         102        94   \n",
      "\n",
      "     team1_FG_pct team1_FTA team1_FT_pct team1_TRB  ... team2_FG_pct  \\\n",
      "0            .505        14         .643        35  ...         .500   \n",
      "1            .455        12         .583        31  ...         .568   \n",
      "2            .472        11         .909        43  ...         .457   \n",
      "3            .469        33         .818        44  ...         .444   \n",
      "4            .409        23         .783        48  ...         .481   \n",
      "...           ...       ...          ...       ...  ...          ...   \n",
      "1098         .405        24         .750        38  ...         .467   \n",
      "1099         .456        36         .861        47  ...         .436   \n",
      "1100         .506        13         .769        34  ...         .512   \n",
      "1101         .388        14         .786        44  ...         .434   \n",
      "1102         .436        24         .708        55  ...         .432   \n",
      "\n",
      "     team2_FTA team2_FT_pct team2_TRB team2_fg3a team2_fg3_pct team2_TOV  \\\n",
      "0           32         .906        57         32          .281        20   \n",
      "1           28         .964        57         35          .571        11   \n",
      "2           28         .714        45         48          .417        13   \n",
      "3           11         .909        38         29          .379        18   \n",
      "4           15         .867        36         31          .355        17   \n",
      "...        ...          ...       ...        ...           ...       ...   \n",
      "1098        16         .875        49         31          .323        20   \n",
      "1099        21         .810        45         42          .286        13   \n",
      "1100        12        1.000        41         29          .310        17   \n",
      "1101        29         .759        49         26          .346        18   \n",
      "1102        30         .700        45         33          .152         9   \n",
      "\n",
      "     team2_stl team2_blk team2_ast  \n",
      "0            8         3        26  \n",
      "1            5         2        27  \n",
      "2            7         2        23  \n",
      "3           12         4        24  \n",
      "4            5         6        32  \n",
      "...        ...       ...       ...  \n",
      "1098        13         7        24  \n",
      "1099         8         6        21  \n",
      "1100        11         2        28  \n",
      "1101        12         3        29  \n",
      "1102         9         5        24  \n",
      "\n",
      "[1103 rows x 27 columns]\n"
     ]
    },
    {
     "name": "stderr",
     "output_type": "stream",
     "text": [
      "\n"
     ]
    }
   ],
   "source": [
    "# Define your date range\n",
    "start_date = datetime(2023, 11, 1)\n",
    "end_date = datetime(2024, 4, 5)\n",
    "total_days = (end_date - start_date).days + 1\n",
    "\n",
    "# Collect all games data\n",
    "all_games_data = []\n",
    "for single_date in tqdm(daterange(start_date, end_date), total=total_days, desc = \"Scraping Data\"):\n",
    "    games_info = scrape_general_game_info(single_date)\n",
    "    all_games_data.extend(games_info)\n",
    "\n",
    "expanded_games_data = []\n",
    "\n",
    "for game in all_games_data:\n",
    "    # Extract basic game info\n",
    "    game_info = {\n",
    "        'date': game['date'],\n",
    "        'team1': game['team1'],\n",
    "        'team1_score': game['team1_score'],\n",
    "        'team2': game['team2'],\n",
    "        'team2_score': game['team2_score'],\n",
    "    }\n",
    "\n",
    "    # Extract team1 stats and prefix with 'team1_'\n",
    "    team1_stats = {f'team1_{k}': v for k, v in game['team1_stats'].items()}\n",
    "    game_info.update(team1_stats)\n",
    "\n",
    "    # Extract team2 stats and prefix with 'team2_'\n",
    "    team2_stats = {f'team2_{k}': v for k, v in game['team2_stats'].items()}\n",
    "    game_info.update(team2_stats)\n",
    "\n",
    "    # Add the expanded game info to the new list\n",
    "    expanded_games_data.append(game_info)\n",
    "\n",
    "# Convert to a DataFrame for analysis\n",
    "df_games = pd.DataFrame(expanded_games_data)\n",
    "\n",
    "# Display the dataset\n",
    "print(\"Dataset with General Game Info and Basic Box Score Stats:\")\n",
    "print(df_games)"
   ]
  },
  {
   "cell_type": "code",
   "execution_count": 4,
   "id": "685ceff0",
   "metadata": {},
   "outputs": [
    {
     "ename": "NameError",
     "evalue": "name 'df_games' is not defined",
     "output_type": "error",
     "traceback": [
      "\u001b[1;31m---------------------------------------------------------------------------\u001b[0m",
      "\u001b[1;31mNameError\u001b[0m                                 Traceback (most recent call last)",
      "Cell \u001b[1;32mIn[4], line 1\u001b[0m\n\u001b[1;32m----> 1\u001b[0m \u001b[43mdf_games\u001b[49m\u001b[38;5;241m.\u001b[39mto_csv(\u001b[38;5;124m'\u001b[39m\u001b[38;5;124mbr.csv\u001b[39m\u001b[38;5;124m'\u001b[39m, index \u001b[38;5;241m=\u001b[39m \u001b[38;5;28;01mFalse\u001b[39;00m)\n",
      "\u001b[1;31mNameError\u001b[0m: name 'df_games' is not defined"
     ]
    }
   ],
   "source": [
    "df_games.to_csv('br.csv', index = False)"
   ]
  },
  {
   "cell_type": "code",
   "execution_count": 190,
   "id": "c994458e",
   "metadata": {},
   "outputs": [
    {
     "name": "stdout",
     "output_type": "stream",
     "text": [
      "{'Washington': 0, 'Indiana': 1, 'Chicago': 2, 'Portland': 3, 'Sacramento': 4, 'Charlotte': 5, 'LA Clippers': 6, 'Brooklyn': 7, 'Denver': 8, 'Cleveland': 9, 'New Orleans': 10, 'Milwaukee': 11, 'Memphis': 12, 'Detroit': 13, 'Toronto': 14, 'San Antonio': 15, 'Orlando': 16, 'Dallas': 17, 'New York': 18, 'Golden State': 19, 'Boston': 20, 'Utah': 21, 'Atlanta': 22, 'LA Lakers': 23, 'Phoenix': 24, 'Miami': 25, 'Philadelphia': 26, 'Oklahoma City': 27, 'Minnesota': 28, 'Houston': 29}\n",
      "           date        team1  team1_score         team2  team2_score  \\\n",
      "0    2023-11-01   Washington          121       Atlanta          130   \n",
      "1    2023-11-01      Indiana          104        Boston          155   \n",
      "2    2023-11-01      Chicago          105        Dallas          114   \n",
      "3    2023-11-01     Portland          110       Detroit          101   \n",
      "4    2023-11-01   Sacramento          101  Golden State          102   \n",
      "...         ...          ...          ...           ...          ...   \n",
      "1098 2024-04-05      Detroit           90       Memphis          108   \n",
      "1099 2024-04-05      Toronto          117     Milwaukee          111   \n",
      "1100 2024-04-05  San Antonio          111   New Orleans          109   \n",
      "1101 2024-04-05    Minnesota           87       Phoenix           97   \n",
      "1102 2024-04-05     Portland          108    Washington          102   \n",
      "\n",
      "      team1_FGA  team1_FG_pct  team1_FTA  team1_FT_pct  team1_TRB  ...  \\\n",
      "0           101         0.505         14         0.643         35  ...   \n",
      "1           101         0.455         12         0.583         31  ...   \n",
      "2            89         0.472         11         0.909         43  ...   \n",
      "3            81         0.469         33         0.818         44  ...   \n",
      "4            88         0.409         23         0.783         48  ...   \n",
      "...         ...           ...        ...           ...        ...  ...   \n",
      "1098         79         0.405         24         0.750         38  ...   \n",
      "1099         79         0.456         36         0.861         47  ...   \n",
      "1100         83         0.506         13         0.769         34  ...   \n",
      "1101         85         0.388         14         0.786         44  ...   \n",
      "1102         94         0.436         24         0.708         55  ...   \n",
      "\n",
      "      team2_fg3a  team2_fg3_pct  team2_TOV  team2_stl  team2_blk  team2_ast  \\\n",
      "0             32          0.281         20          8          3         26   \n",
      "1             35          0.571         11          5          2         27   \n",
      "2             48          0.417         13          7          2         23   \n",
      "3             29          0.379         18         12          4         24   \n",
      "4             31          0.355         17          5          6         32   \n",
      "...          ...            ...        ...        ...        ...        ...   \n",
      "1098          31          0.323         20         13          7         24   \n",
      "1099          42          0.286         13          8          6         21   \n",
      "1100          29          0.310         17         11          2         28   \n",
      "1101          26          0.346         18         12          3         29   \n",
      "1102          33          0.152          9          9          5         24   \n",
      "\n",
      "      Home_Team_ID  Away_Team_ID  HomeWin  month  \n",
      "0               22             0        1      0  \n",
      "1               20             1        1      0  \n",
      "2               17             2        1      0  \n",
      "3               13             3        0      0  \n",
      "4               19             4        1      0  \n",
      "...            ...           ...      ...    ...  \n",
      "1098            12            13        1      5  \n",
      "1099            11            14        0      5  \n",
      "1100            10            15        0      5  \n",
      "1101            24            28        1      5  \n",
      "1102             0             3        0      5  \n",
      "\n",
      "[1103 rows x 31 columns]\n"
     ]
    }
   ],
   "source": [
    "br_df = pd.read_csv('br.csv')\n",
    "\n",
    "unique_teams = pd.unique(br_df[['team1', 'team2']].values.ravel('K'))\n",
    "\n",
    "# Map each team to a unique integer\n",
    "team_to_id = {team: i for i, team in enumerate(unique_teams)}\n",
    "print(team_to_id)\n",
    "br_df['Home_Team_ID'] = br_df['team2'].map(team_to_id) # home team is team 2\n",
    "br_df['Away_Team_ID'] = br_df['team1'].map(team_to_id) # away team is team 1\n",
    "\n",
    "#Add win column\n",
    "br_df['HomeWin'] = (br_df['team2_score'] > br_df['team1_score']).astype(int) #astype coverts boolean to integer 0 and 1\n",
    "\n",
    "br_df['date'] = pd.to_datetime(br_df['date'])\n",
    "br_df['month'] = (br_df['date'].dt.month - 11) % 12\n",
    "\n",
    "\n",
    "print(br_df)"
   ]
  },
  {
   "cell_type": "code",
   "execution_count": 193,
   "id": "4d79bf7a",
   "metadata": {},
   "outputs": [
    {
     "name": "stdout",
     "output_type": "stream",
     "text": [
      "torch.Size([1103, 91])\n"
     ]
    }
   ],
   "source": [
    "home_team = torch.tensor(br_df['Home_Team_ID'], dtype=torch.long)\n",
    "away_team = torch.tensor(br_df['Away_Team_ID'], dtype=torch.long)\n",
    "num_classes = 30 \n",
    "home_teams_ohe = F.one_hot(home_team, num_classes=num_classes)\n",
    "away_teams_ohe = F.one_hot(away_team, num_classes=num_classes)\n",
    "date_stuff = torch.tensor(br_df['month'], dtype=torch.long)\n",
    "\n",
    "months_ohe = F.one_hot(date_stuff, num_classes = 6)\n",
    "\n",
    "x_ohe_tensor = torch.cat((home_teams_ohe, away_teams_ohe), dim=1)\n",
    "\n",
    "numeric_data = br_df.drop(['date', 'Home_Team_ID', 'Away_Team_ID', 'HomeWin', 'team1', 'team2'], axis = 1).values\n",
    "scaler = StandardScaler()\n",
    "x_norm = scaler.fit_transform(numeric_data)\n",
    "x_norm_tensor = torch.tensor(x_norm, dtype=torch.float32)\n",
    "\n",
    "X_almost = torch.cat((x_norm_tensor, x_ohe_tensor), dim=1)\n",
    "X = torch.cat((X_almost, months_ohe), dim = 1)\n",
    "\n",
    "print(X.shape)\n",
    "\n",
    "y = torch.tensor(br_df['HomeWin'], dtype=torch.long)"
   ]
  },
  {
   "cell_type": "code",
   "execution_count": 194,
   "id": "a2da6b34",
   "metadata": {},
   "outputs": [],
   "source": [
    "class Trainer:\n",
    "    \n",
    "    def __init__(self, model, opt_method, learning_rate, batch_size, epoch, l2):\n",
    "        self.model = model\n",
    "        if opt_method == \"adam\":\n",
    "            self.optimizer = torch.optim.Adam(model.parameters(), learning_rate, weight_decay=l2)\n",
    "        else:\n",
    "            raise NotImplementedError(\"This optimization is not supported\")\n",
    "        \n",
    "        self.epoch = epoch\n",
    "        self.batch_size = batch_size\n",
    "    \n",
    "    def train(self, X_train, y_train, X_val, y_val, early_stop=True, draw_curve=True):\n",
    "        train_dataset = TensorDataset(X_train, y_train)\n",
    "        train_loader = DataLoader(train_dataset, batch_size=self.batch_size, shuffle=True)\n",
    "        val_dataset = TensorDataset(X_val, y_val)\n",
    "        val_loader = DataLoader(val_dataset, batch_size=self.batch_size, shuffle=False)\n",
    "        \n",
    "        train_loss_list, train_acc_list = [], []\n",
    "        val_loss_list, val_acc_list = [], []\n",
    "        weights = self.model.state_dict()\n",
    "        lowest_val_loss = np.inf\n",
    "        loss_func = nn.CrossEntropyLoss()\n",
    "        for n in tqdm(range(self.epoch), leave=True):\n",
    "            # enable train mode\n",
    "            self.model.train()\n",
    "            epoch_loss, epoch_acc = 0.0, 0.0\n",
    "            for X_batch, y_batch in train_loader:\n",
    "                batch_importance = y_batch.shape[0] / len(train_dataset)\n",
    "                y_pred = self.model(X_batch)\n",
    "                batch_loss = loss_func(y_pred, y_batch)\n",
    "                \n",
    "                self.optimizer.zero_grad()\n",
    "                batch_loss.backward()\n",
    "                self.optimizer.step()\n",
    "                \n",
    "                epoch_loss += batch_loss.detach().cpu().item() * batch_importance\n",
    "                batch_acc = torch.sum(torch.argmax(y_pred, axis=1) == y_batch) / y_batch.shape[0]\n",
    "                epoch_acc += batch_acc.detach().cpu().item() * batch_importance\n",
    "            train_loss_list.append(epoch_loss)\n",
    "            train_acc_list.append(epoch_acc)\n",
    "            val_loss, val_acc = self.evaluate(val_dataset)\n",
    "            val_loss_list.append(val_loss)\n",
    "            val_acc_list.append(val_acc)\n",
    "            \n",
    "            if early_stop:\n",
    "                if val_loss < lowest_val_loss:\n",
    "                    lowest_val_loss = val_loss\n",
    "                    weights = self.model.state_dict()\n",
    "            \n",
    "        if draw_curve:\n",
    "            x_axis = np.arange(self.epoch)\n",
    "            fig, axes = plt.subplots(1, 2, figsize=(10, 4))\n",
    "            axes[0].plot(x_axis, train_loss_list, label=\"Train\")\n",
    "            axes[0].plot(x_axis, val_loss_list, label=\"Validation\")\n",
    "            axes[0].set_title(\"Loss\")\n",
    "            axes[0].legend()\n",
    "            axes[1].plot(x_axis, train_acc_list, label='Train')\n",
    "            axes[1].plot(x_axis, val_acc_list, label='Validation')\n",
    "            axes[1].set_title(\"Accuracy\")\n",
    "            axes[1].legend()\n",
    "            print(f\"Validation accuracy: {np.mean(val_acc_list)}+/-{np.std(val_acc_list)}\")\n",
    "        \n",
    "        if early_stop:\n",
    "            self.model.load_state_dict(weights)\n",
    "        \n",
    "        return {\n",
    "            \"train_loss_list\": train_loss_list,\n",
    "            \"train_acc_list\": train_acc_list,\n",
    "            \"val_loss_list\": val_loss_list,\n",
    "            \"val_acc_list\": val_acc_list,\n",
    "        }\n",
    "    \n",
    "    def evaluate(self, data, print_acc=False):\n",
    "        # enable evaluation mode\n",
    "        self.model.eval()\n",
    "        loader = DataLoader(data, batch_size=self.batch_size, shuffle=True)\n",
    "        loss_func = nn.CrossEntropyLoss()\n",
    "        acc, loss = 0.0, 0.0\n",
    "        for X_batch, y_batch in loader:\n",
    "            with torch.no_grad():\n",
    "                batch_importance = y_batch.shape[0] / len(data)\n",
    "                y_pred = self.model(X_batch)\n",
    "                batch_loss = loss_func(y_pred, y_batch)\n",
    "                batch_acc = torch.sum(torch.argmax(y_pred, axis=1) == y_batch) / y_batch.shape[0]\n",
    "                acc += batch_acc.detach().cpu().item() * batch_importance\n",
    "                loss += batch_loss.detach().cpu().item() * batch_importance\n",
    "        if print_acc:\n",
    "            print(f\"Accuracy: {acc:.3f}\")\n",
    "        return loss, acc\n",
    "            \n",
    "            "
   ]
  },
  {
   "cell_type": "code",
   "execution_count": 195,
   "id": "eb1c758c",
   "metadata": {},
   "outputs": [],
   "source": [
    "def KFoldCrossValidation(\n",
    "    model_class, k, \n",
    "    X, y,\n",
    "    opt_method='adam', learning_rate=1e-3, batch_size=128, epoch=50, l2=0\n",
    "):\n",
    "    _, X_test, _, y_test = train_test_split(X, y, test_size=0.2)\n",
    "    test_dataset = TensorDataset(X_test, y_test)\n",
    "    kf = KFold(n_splits = k, shuffle = True)\n",
    "    train_acc_list, test_acc_list = [], []\n",
    "    for i, (train_index, val_index) in enumerate(kf.split(X)):\n",
    "        print(f\"Fold {i}:\")\n",
    "        \n",
    "        X_train, X_val = X[train_index], X[val_index]\n",
    "        y_train, y_val = y[train_index], y[val_index]\n",
    "        \n",
    "        model = model_class()\n",
    "        # initialize a Trainer object\n",
    "        trainer = Trainer(model, opt_method, learning_rate, batch_size, epoch, l2)\n",
    "        # call trainer.train() here\n",
    "        res = trainer.train(X_train, y_train, X_val, y_val)\n",
    "        train_acc_best = res['train_acc_list'][np.argmin(res['val_loss_list'])]\n",
    "        test_loss, test_acc = trainer.evaluate(test_dataset)\n",
    "        if i == 1:\n",
    "            torch.save(model.state_dict(), f'model_weights_fold_1.pth')\n",
    "        train_acc_list.append(train_acc_best)\n",
    "        test_acc_list.append(test_acc)\n",
    "        \n",
    "        print(f\"Training accuracy: {train_acc_best}\")\n",
    "        print(f\"Test accuracy: {test_acc}\")\n",
    "    \n",
    "    print(\"Final results:\")\n",
    "    print(f\"Training accuracy: {np.mean(train_acc_list)}+/-{np.std(train_acc_list)}\")\n",
    "    print(f\"Test accuracy: {np.mean(test_acc_list)}+/-{np.std(test_acc_list)}\")"
   ]
  },
  {
   "cell_type": "code",
   "execution_count": 196,
   "id": "9dc0b974",
   "metadata": {},
   "outputs": [],
   "source": [
    "class WinPredictor(nn.Module):\n",
    "    def __init__(self, ):\n",
    "        super(WinPredictor, self).__init__()\n",
    "        \n",
    "        # The input dimension here accounts for both teams' embeddings plus the other features\n",
    "        self.fc1 = nn.Linear(91, 128)\n",
    "        \n",
    "        self.fc2 = nn.Linear(128, 64)\n",
    "        # Adjusting the output layer for binary classification (win/loss)\n",
    "        self.output_layer = nn.Linear(64, 2) \n",
    "\n",
    "    def forward(self, x):\n",
    "        \n",
    "        x = F.relu(self.fc1(x))\n",
    "        x = F.relu(self.fc2(x))\n",
    "        # Using softmax activation function\n",
    "        win_prob = F.softmax(self.output_layer(x), dim = 1)\n",
    "        \n",
    "        return win_prob\n"
   ]
  },
  {
   "cell_type": "code",
   "execution_count": 197,
   "id": "ab74bd46",
   "metadata": {},
   "outputs": [
    {
     "name": "stdout",
     "output_type": "stream",
     "text": [
      "Fold 0:\n"
     ]
    },
    {
     "name": "stderr",
     "output_type": "stream",
     "text": [
      "100%|██████████| 50/50 [00:06<00:00,  8.00it/s]\n"
     ]
    },
    {
     "name": "stdout",
     "output_type": "stream",
     "text": [
      "Validation accuracy: 0.9711956521739131+/-0.005297170839570078\n",
      "Training accuracy: 1.0\n",
      "Test accuracy: 0.9773755656108596\n",
      "Fold 1:\n"
     ]
    },
    {
     "name": "stderr",
     "output_type": "stream",
     "text": [
      "100%|██████████| 50/50 [00:06<00:00,  8.10it/s]\n"
     ]
    },
    {
     "name": "stdout",
     "output_type": "stream",
     "text": [
      "Validation accuracy: 0.972228260869565+/-0.011558212368567182\n",
      "Training accuracy: 0.998639455782313\n",
      "Test accuracy: 0.990950226244344\n",
      "Fold 2:\n"
     ]
    },
    {
     "name": "stderr",
     "output_type": "stream",
     "text": [
      "100%|██████████| 50/50 [00:06<00:00,  7.36it/s]\n"
     ]
    },
    {
     "name": "stdout",
     "output_type": "stream",
     "text": [
      "Validation accuracy: 0.9527520436909284+/-0.011242679850942317\n",
      "Training accuracy: 0.9999999999999996\n",
      "Test accuracy: 0.9909502238170056\n",
      "Final results:\n",
      "Training accuracy: 0.9995464852607708+/-0.0006413666949536702\n",
      "Test accuracy: 0.9864253385574031+/-0.006399155818699538\n"
     ]
    },
    {
     "data": {
      "image/png": "[encoded data removed]",
      "text/plain": [
       "<Figure size 1000x400 with 2 Axes>"
      ]
     },
     "metadata": {},
     "output_type": "display_data"
    },
    {
     "data": {
      "image/png": "[encoded data removed]",
      "text/plain": [
       "<Figure size 1000x400 with 2 Axes>"
      ]
     },
     "metadata": {},
     "output_type": "display_data"
    },
    {
     "data": {
      "image/png": "[encoded data removed]",
      "text/plain": [
       "<Figure size 1000x400 with 2 Axes>"
      ]
     },
     "metadata": {},
     "output_type": "display_data"
    }
   ],
   "source": [
    "KFoldCrossValidation(WinPredictor, 3, X, y, batch_size = 32)"
   ]
  },
  {
   "cell_type": "markdown",
   "id": "cd3062a6",
   "metadata": {},
   "source": [
    "# {'Washington': 0, 'Indiana': 1, 'Chicago': 2, 'Portland': 3, 'Sacramento': 4, 'Charlotte': 5, 'LA Clippers': 6, 'Brooklyn': 7, 'Denver': 8, 'Cleveland': 9, 'New Orleans': 10, 'Milwaukee': 11, 'Memphis': 12, 'Detroit': 13, 'Toronto': 14, 'San Antonio': 15, 'Orlando': 16, 'Dallas': 17, 'New York': 18, 'Golden State': 19, 'Boston': 20, 'Utah': 21, 'Atlanta': 22, 'LA Lakers': 23, 'Phoenix': 24, 'Miami': 25, 'Philadelphia': 26, 'Oklahoma City': 27, 'Minnesota': 28, 'Houston': 29}"
   ]
  },
  {
   "cell_type": "code",
   "execution_count": 203,
   "id": "7e2d1c90",
   "metadata": {},
   "outputs": [
    {
     "name": "stdout",
     "output_type": "stream",
     "text": [
      "Game 1 between LA Lakers and Golden State:\n",
      "Probability of LA Lakers winning: 0.28\n",
      "Probability of Golden State winning: 0.72\n",
      "Predicted winner: Golden State\n",
      "\n",
      "Game 2 between LA Lakers and Golden State:\n",
      "Probability of LA Lakers winning: 0.28\n",
      "Probability of Golden State winning: 0.72\n",
      "Predicted winner: Golden State\n",
      "\n",
      "Game 3 between Golden State and LA Lakers:\n",
      "Probability of Golden State winning: 0.27\n",
      "Probability of LA Lakers winning: 0.73\n",
      "Predicted winner: LA Lakers\n",
      "\n",
      "Game 4 between Golden State and LA Lakers:\n",
      "Probability of Golden State winning: 0.27\n",
      "Probability of LA Lakers winning: 0.73\n",
      "Predicted winner: LA Lakers\n",
      "\n",
      "Game 5 between LA Lakers and Golden State:\n",
      "Probability of LA Lakers winning: 0.28\n",
      "Probability of Golden State winning: 0.72\n",
      "Predicted winner: Golden State\n",
      "\n",
      "Game 6 between Golden State and LA Lakers:\n",
      "Probability of Golden State winning: 0.27\n",
      "Probability of LA Lakers winning: 0.73\n",
      "Predicted winner: Golden State\n",
      "\n",
      "Game 7 between LA Lakers and Golden State:\n",
      "Probability of LA Lakers winning: 0.28\n",
      "Probability of Golden State winning: 0.72\n",
      "Predicted winner: Golden State\n",
      "\n"
     ]
    }
   ],
   "source": [
    "# Initialize your model\n",
    "model = WinPredictor()\n",
    "model.load_state_dict(torch.load('model_weights_fold_1.pth'))  # Load trained model weights\n",
    "model.eval()  # Set the model to evaluation mode\n",
    "\n",
    "# Assuming there are 30 teams\n",
    "num_classes = 30\n",
    "\n",
    "team_names = {\n",
    "  0: 'Washington',\n",
    "  1: 'Indiana',\n",
    "  2: 'Chicago',\n",
    "  3: 'Portland',\n",
    "  4: 'Sacramento',\n",
    "  5: 'Charlotte',\n",
    "  6: 'LA Clippers',\n",
    "  7: 'Brooklyn',\n",
    "  8: 'Denver',\n",
    "  9: 'Cleveland',\n",
    "  10: 'New Orleans',\n",
    "  11: 'Milwaukee',\n",
    "  12: 'Memphis',\n",
    "  13: 'Detroit',\n",
    "  14: 'Toronto',\n",
    "  15: 'San Antonio',\n",
    "  16: 'Orlando',\n",
    "  17: 'Dallas',\n",
    "  18: 'New York',\n",
    "  19: 'Golden State',\n",
    "  20: 'Boston',\n",
    "  21: 'Utah',\n",
    "  22: 'Atlanta',\n",
    "  23: 'LA Lakers',\n",
    "  24: 'Phoenix',\n",
    "  25: 'Miami',\n",
    "  26: 'Philadelphia',\n",
    "  27: 'Oklahoma City',\n",
    "  28: 'Minnesota',\n",
    "  29: 'Houston'\n",
    "}\n",
    "\n",
    "\n",
    "# Example games with just home and away team IDs\n",
    "games = [{\"home_team_id\": 23, \"away_team_id\": 19},\n",
    "        {\"home_team_id\": 23, \"away_team_id\": 19},\n",
    "        {\"home_team_id\": 19, \"away_team_id\": 23},\n",
    "        {\"home_team_id\": 19, \"away_team_id\": 23},\n",
    "        {\"home_team_id\": 23, \"away_team_id\": 19},\n",
    "        {\"home_team_id\": 19, \"away_team_id\": 23},\n",
    "        {\"home_team_id\": 23, \"away_team_id\": 19}\n",
    "       ]\n",
    "\n",
    "\n",
    "home_team_ids = torch.tensor([game[\"home_team_id\"] for game in games])\n",
    "away_team_ids = torch.tensor([game[\"away_team_id\"] for game in games])\n",
    "\n",
    "home_teams_ohe = F.one_hot(home_team_ids, num_classes=num_classes).float()\n",
    "away_teams_ohe = F.one_hot(away_team_ids, num_classes=num_classes).float()\n",
    "\n",
    "input_batch = torch.cat((home_teams_ohe, away_teams_ohe), dim=1)\n",
    "\n",
    "# Pad the input batch to match the expected input size of the model\n",
    "padding_size = 91 - input_batch.size(1)\n",
    "padded_input_batch = F.pad(input_batch, (0, padding_size), \"constant\", 0)\n",
    "\n",
    "# Make predictions for the batch\n",
    "with torch.no_grad():\n",
    "    logits = model(padded_input_batch)  # Raw outputs from the model\n",
    "    probabilities = F.softmax(logits, dim=1)  # Convert logits to probabilities\n",
    "\n",
    "# Interpret the predictions and print probabilities\n",
    "for i, (prob, predicted_class) in enumerate(zip(probabilities, predicted_classes)):\n",
    "    home_team_name = team_names[games[i][\"home_team_id\"]]\n",
    "    away_team_name = team_names[games[i][\"away_team_id\"]]\n",
    "    print(f\"Game {i + 1} between {home_team_name} and {away_team_name}:\")\n",
    "    print(f\"Probability of {home_team_name} winning: {prob[0].item():.2f}\")\n",
    "    print(f\"Probability of {away_team_name} winning: {prob[1].item():.2f}\")\n",
    "    if predicted_class.item() == 0:\n",
    "        print(f\"Predicted winner: {home_team_name}\\n\")\n",
    "    else:\n",
    "        print(f\"Predicted winner: {away_team_name}\\n\")\n"
   ]
  }
 ],
 "metadata": {
  "kernelspec": {
   "display_name": "c142",
   "language": "python",
   "name": "c142"
  },
  "language_info": {
   "codemirror_mode": {
    "name": "ipython",
    "version": 3
   },
   "file_extension": ".py",
   "mimetype": "text/x-python",
   "name": "python",
   "nbconvert_exporter": "python",
   "pygments_lexer": "ipython3",
   "version": "3.8.18"
  }
 },
 "nbformat": 4,
 "nbformat_minor": 5
}
